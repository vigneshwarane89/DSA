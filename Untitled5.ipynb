{
 "cells": [
  {
   "cell_type": "code",
   "execution_count": 3,
   "metadata": {},
   "outputs": [
    {
     "name": "stdout",
     "output_type": "stream",
     "text": [
      "3 7 19 18 7 12 17\n"
     ]
    }
   ],
   "source": [
    "arr=list(map(int,input().split()))"
   ]
  },
  {
   "cell_type": "code",
   "execution_count": 5,
   "metadata": {},
   "outputs": [
    {
     "name": "stdout",
     "output_type": "stream",
     "text": [
      "1 2 3 4 5\n"
     ]
    }
   ],
   "source": [
    "a=list(map(int,input().split()))"
   ]
  },
  {
   "cell_type": "code",
   "execution_count": 6,
   "metadata": {},
   "outputs": [
    {
     "name": "stdout",
     "output_type": "stream",
     "text": [
      "2 5 6 4 9 12\n"
     ]
    }
   ],
   "source": [
    "b=list(map(int,input().split()))"
   ]
  },
  {
   "cell_type": "code",
   "execution_count": 8,
   "metadata": {},
   "outputs": [],
   "source": [
    "d={}\n",
    "for i in range(len(b)):\n",
    "    if b[i] not in d:\n",
    "        d[b[i]] = [i]\n",
    "    else:\n",
    "        d[b[i]].append(i)"
   ]
  },
  {
   "cell_type": "code",
   "execution_count": 9,
   "metadata": {},
   "outputs": [
    {
     "data": {
      "text/plain": [
       "{2: [0], 5: [1], 6: [2], 4: [3], 9: [4], 12: [5]}"
      ]
     },
     "execution_count": 9,
     "metadata": {},
     "output_type": "execute_result"
    }
   ],
   "source": [
    "previ = -1\n",
    "for i in range(len(a)):\n",
    "    if a[i] in d:\n",
    "        if previ < d[a[i]][0]:\n",
    "            previ = d[a[i]][0]\n",
    "            d[a[i]].pop(0)\n",
    "            if not d[a[i]]:\n",
    "                d.pop(a[i])\n",
    "        else:\n",
    "            \n",
    "            \n",
    "                \n"
   ]
  },
  {
   "cell_type": "code",
   "execution_count": 14,
   "metadata": {},
   "outputs": [],
   "source": [
    "ds={1:2}"
   ]
  },
  {
   "cell_type": "code",
   "execution_count": 15,
   "metadata": {},
   "outputs": [
    {
     "name": "stdout",
     "output_type": "stream",
     "text": [
      "2\n"
     ]
    }
   ],
   "source": [
    "print(ds.pop(1))"
   ]
  },
  {
   "cell_type": "code",
   "execution_count": 16,
   "metadata": {},
   "outputs": [
    {
     "data": {
      "text/plain": [
       "{}"
      ]
     },
     "execution_count": 16,
     "metadata": {},
     "output_type": "execute_result"
    }
   ],
   "source": [
    "d"
   ]
  },
  {
   "cell_type": "code",
   "execution_count": 18,
   "metadata": {},
   "outputs": [
    {
     "name": "stdout",
     "output_type": "stream",
     "text": [
      "3\n",
      "1 3\n",
      "1 5\n",
      "2 5\n"
     ]
    }
   ],
   "source": [
    "arr=[]\n",
    "xor=[]\n",
    "for _ in range(int(input())):\n",
    "    n,m=input().split()\n",
    "    n=int(n)\n",
    "    m=int(m)\n",
    "    if n == 1:\n",
    "        arr.append(m)\n",
    "    else:\n",
    "        while(arr):\n",
    "            xor.append(arr.pop()^m)\n",
    "    \n",
    "    \n",
    "            "
   ]
  },
  {
   "cell_type": "code",
   "execution_count": 19,
   "metadata": {},
   "outputs": [
    {
     "data": {
      "text/plain": [
       "[0, 6]"
      ]
     },
     "execution_count": 19,
     "metadata": {},
     "output_type": "execute_result"
    }
   ],
   "source": [
    "xor"
   ]
  },
  {
   "cell_type": "code",
   "execution_count": 20,
   "metadata": {},
   "outputs": [],
   "source": [
    "# Python program for insert and search \n",
    "# operation in a Trie \n",
    "\n",
    "class TrieNode: \n",
    "\t\n",
    "\t# Trie node class \n",
    "\tdef __init__(self): \n",
    "\t\tself.children = [None]*26\n",
    "\n",
    "\t\t# isEndOfWord is True if node represent the end of the word \n",
    "\t\tself.isEndOfWord = False\n",
    "\n",
    "class Trie: \n",
    "\t\n",
    "\t# Trie data structure class \n",
    "\tdef __init__(self): \n",
    "\t\tself.root = self.getNode() \n",
    "\n",
    "\tdef getNode(self): \n",
    "\t\n",
    "\t\t# Returns new trie node (initialized to NULLs) \n",
    "\t\treturn TrieNode() \n",
    "\n",
    "\tdef _charToIndex(self,ch): \n",
    "\t\t\n",
    "\t\t# private helper function \n",
    "\t\t# Converts key current character into index \n",
    "\t\t# use only 'a' through 'z' and lower case \n",
    "\t\t\n",
    "\t\treturn ord(ch)-ord('a') \n",
    "\n",
    "\n",
    "\tdef insert(self,key): \n",
    "\t\t\n",
    "\t\t# If not present, inserts key into trie \n",
    "\t\t# If the key is prefix of trie node, \n",
    "\t\t# just marks leaf node \n",
    "\t\tpCrawl = self.root \n",
    "\t\tlength = len(key) \n",
    "\t\tfor level in range(length): \n",
    "\t\t\tindex = self._charToIndex(key[level]) \n",
    "\n",
    "\t\t\t# if current character is not present \n",
    "\t\t\tif not pCrawl.children[index]: \n",
    "\t\t\t\tpCrawl.children[index] = self.getNode() \n",
    "\t\t\tpCrawl = pCrawl.children[index] \n",
    "\n",
    "\t\t# mark last node as leaf \n",
    "\t\tpCrawl.isEndOfWord = True\n",
    "\n",
    "\tdef search(self, key): \n",
    "\t\t\n",
    "\t\t# Search key in the trie \n",
    "\t\t# Returns true if key presents \n",
    "\t\t# in trie, else false \n",
    "\t\tpCrawl = self.root \n",
    "\t\tlength = len(key) \n",
    "\t\tfor level in range(length): \n",
    "\t\t\tindex = self._charToIndex(key[level]) \n",
    "\t\t\tif not pCrawl.children[index]: \n",
    "\t\t\t\treturn False\n",
    "\t\t\tpCrawl = pCrawl.children[index] \n",
    "\n",
    "\t\treturn pCrawl != None and pCrawl.isEndOfWord \n",
    "\n",
    "# driver function \n"
   ]
  },
  {
   "cell_type": "code",
   "execution_count": 22,
   "metadata": {},
   "outputs": [],
   "source": [
    "t=Trie()\n",
    "keys=[\"cat\", \n",
    "\"bat\",\n",
    "\"man\",\n",
    "\"pen\"]\n",
    "for key in keys:\n",
    "    t.insert(key)"
   ]
  },
  {
   "cell_type": "code",
   "execution_count": 23,
   "metadata": {},
   "outputs": [
    {
     "name": "stdout",
     "output_type": "stream",
     "text": [
      "the ---- Present in trie\n",
      "these ---- Not present in trie\n",
      "their ---- Present in trie\n",
      "thaw ---- Not present in trie\n"
     ]
    }
   ],
   "source": [
    "def main(): \n",
    "\n",
    "\t# Input keys (use only 'a' through 'z' and lower case) \n",
    "\tkeys = [\"the\",\"a\",\"there\",\"anaswe\",\"any\", \n",
    "\t\t\t\"by\",\"their\"] \n",
    "\toutput = [\"Not present in trie\", \n",
    "\t\t\t\"Present in trie\"] \n",
    "\n",
    "\t# Trie object \n",
    "\tt = Trie() \n",
    "\n",
    "\t# Construct trie \n",
    "\tfor key in keys: \n",
    "\t\tt.insert(key) \n",
    "\n",
    "\t# Search for different keys \n",
    "\tprint(\"{} ---- {}\".format(\"the\",output[t.search(\"the\")])) \n",
    "\tprint(\"{} ---- {}\".format(\"these\",output[t.search(\"these\")])) \n",
    "\tprint(\"{} ---- {}\".format(\"their\",output[t.search(\"their\")])) \n",
    "\tprint(\"{} ---- {}\".format(\"thaw\",output[t.search(\"thaw\")])) \n",
    "\n",
    "if __name__ == '__main__': \n",
    "\tmain() \n",
    "\n",
    "# This code is contributed by Atul Kumar (www.facebook.com/atul.kr.007) \n"
   ]
  },
  {
   "cell_type": "code",
   "execution_count": null,
   "metadata": {},
   "outputs": [],
   "source": []
  },
  {
   "cell_type": "code",
   "execution_count": null,
   "metadata": {},
   "outputs": [],
   "source": []
  },
  {
   "cell_type": "code",
   "execution_count": null,
   "metadata": {},
   "outputs": [],
   "source": []
  },
  {
   "cell_type": "code",
   "execution_count": 62,
   "metadata": {},
   "outputs": [
    {
     "name": "stdout",
     "output_type": "stream",
     "text": [
      "{'.at': ['cat', 'bat'], 'c.t': ['cat'], 'ca.': ['cat'], '.ap': ['map'], 'm.p': ['map'], 'ma.': ['map', 'man'], 'b.t': ['bat'], 'ba.': ['bat'], '.an': ['man'], 'm.n': ['man'], '.en': ['pen'], 'p.n': ['pen'], 'pe.': ['pen']}\n"
     ]
    }
   ],
   "source": [
    "l=[\"cat\", \n",
    "\"map\", \n",
    "\"bat\",\n",
    "\"man\",\n",
    "\"pen\"]\n",
    "\n",
    "d={}\n",
    "for word in l:\n",
    "    for i in range(len(word)):\n",
    "        bucket=word[:i] + '.' + word[i+1:]\n",
    "\n",
    "        if bucket in d:\n",
    "            d[bucket].append(word)\n",
    "        else:\n",
    "            d[bucket]=[word]\n",
    "\n",
    "print(d)\n",
    "                \n",
    "    "
   ]
  },
  {
   "cell_type": "code",
   "execution_count": 74,
   "metadata": {},
   "outputs": [],
   "source": [
    "import re\n",
    "s=[]\n",
    "\n",
    "query = '.a.'\n",
    "reo = re.compile(query)\n",
    "for data in d:\n",
    "    if reo.match(data):\n",
    "        s.append((d[data]))\n"
   ]
  },
  {
   "cell_type": "code",
   "execution_count": 75,
   "metadata": {},
   "outputs": [
    {
     "data": {
      "text/plain": [
       "[['cat', 'bat'], ['cat'], ['map'], ['map', 'man'], ['bat'], ['man']]"
      ]
     },
     "execution_count": 75,
     "metadata": {},
     "output_type": "execute_result"
    }
   ],
   "source": []
  },
  {
   "cell_type": "code",
   "execution_count": 72,
   "metadata": {},
   "outputs": [
    {
     "ename": "SyntaxError",
     "evalue": "can't use starred expression here (<ipython-input-72-828dedb3140c>, line 4)",
     "output_type": "error",
     "traceback": [
      "\u001b[1;36m  File \u001b[1;32m\"<ipython-input-72-828dedb3140c>\"\u001b[1;36m, line \u001b[1;32m4\u001b[0m\n\u001b[1;31mSyntaxError\u001b[0m\u001b[1;31m:\u001b[0m can't use starred expression here\n"
     ]
    }
   ],
   "source": []
  },
  {
   "cell_type": "code",
   "execution_count": 45,
   "metadata": {},
   "outputs": [
    {
     "name": "stdout",
     "output_type": "stream",
     "text": [
      "[a-m]\n"
     ]
    }
   ],
   "source": []
  },
  {
   "cell_type": "code",
   "execution_count": 49,
   "metadata": {},
   "outputs": [],
   "source": []
  },
  {
   "cell_type": "code",
   "execution_count": 55,
   "metadata": {},
   "outputs": [
    {
     "name": "stdout",
     "output_type": "stream",
     "text": [
      "1\n"
     ]
    }
   ],
   "source": []
  },
  {
   "cell_type": "code",
   "execution_count": null,
   "metadata": {},
   "outputs": [],
   "source": []
  }
 ],
 "metadata": {
  "kernelspec": {
   "display_name": "Python 3",
   "language": "python",
   "name": "python3"
  },
  "language_info": {
   "codemirror_mode": {
    "name": "ipython",
    "version": 3
   },
   "file_extension": ".py",
   "mimetype": "text/x-python",
   "name": "python",
   "nbconvert_exporter": "python",
   "pygments_lexer": "ipython3",
   "version": "3.7.3"
  }
 },
 "nbformat": 4,
 "nbformat_minor": 2
}
