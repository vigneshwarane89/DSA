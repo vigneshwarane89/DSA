{
 "cells": [
  {
   "cell_type": "code",
   "execution_count": 1,
   "metadata": {},
   "outputs": [],
   "source": [
    "class Vertex:\n",
    "    \n",
    "    def __init__(self,key):\n",
    "        self.id=key\n",
    "        self.connectedTo={}\n",
    "    \n",
    "    def addNeighbour(self,nbr,weight=0):\n",
    "        self.connectedTo[nbr]=weight\n",
    "        \n",
    "    def getConnections(self):\n",
    "        return self.connectedTo.keys()\n",
    "    \n",
    "    def getId(self):\n",
    "        return self.id\n",
    "    \n",
    "    def getWeight(self,key):\n",
    "        return self.connectedTo[key]\n",
    "    def __str__(self):\n",
    "        return str(self.id) + \"connected to \"+ str([x.id for x in self.connectedTo])\n",
    "\n",
    "        \n",
    "        \n",
    "    \n",
    "    "
   ]
  },
  {
   "cell_type": "code",
   "execution_count": 2,
   "metadata": {},
   "outputs": [],
   "source": [
    "class Graph:\n",
    "    def __init__(self):\n",
    "        self.vertList={}\n",
    "        self.numVert=0\n",
    "    \n",
    "    def addVertex(self,key):\n",
    "        newVertex=Vertex(key)\n",
    "        self.vertList[key]=newVertex\n",
    "        self.numVert+=1\n",
    "        return newVertex\n",
    "    \n",
    "    def getVertex(self,key):\n",
    "        \n",
    "        if key in self.vertList:\n",
    "            return self.vertList[key]\n",
    "        else:\n",
    "            return None\n",
    "    \n",
    "    def addEdge(self,f,t,cost=0):\n",
    "        if f not in self.vertList:\n",
    "            newVertex=self.addVertex(f)\n",
    "        if t not in self.vertList:\n",
    "            newVertex=self.addVertex(t)\n",
    "            \n",
    "        self.vertList[f].addNeighbour(self.vertList[t],cost)\n",
    "    \n",
    "    def getVertices(self):\n",
    "        return self.vertList.keys()\n",
    "    \n",
    "    def __iter__(self):\n",
    "        \n",
    "        return iter(self.vertList.values())\n",
    "    def __contains__(self,n):\n",
    "        \n",
    "        return n in self.vertList\n",
    "    def __str__(self):\n",
    "        return str(self.numVert)\n",
    "        \n",
    "            "
   ]
  },
  {
   "cell_type": "code",
   "execution_count": 3,
   "metadata": {},
   "outputs": [],
   "source": [
    "g=Graph()"
   ]
  },
  {
   "cell_type": "code",
   "execution_count": 4,
   "metadata": {},
   "outputs": [
    {
     "data": {
      "text/plain": [
       "<__main__.Vertex at 0x23991300940>"
      ]
     },
     "execution_count": 4,
     "metadata": {},
     "output_type": "execute_result"
    }
   ],
   "source": [
    "g.addVertex(1)\n",
    "g.addVertex(2)\n"
   ]
  },
  {
   "cell_type": "code",
   "execution_count": null,
   "metadata": {},
   "outputs": [],
   "source": []
  },
  {
   "cell_type": "code",
   "execution_count": 13,
   "metadata": {},
   "outputs": [],
   "source": [
    "def buildGraph(l):\n",
    "    wordLetter=Graph()\n",
    "\n",
    "    d={}\n",
    "    for word in l:\n",
    "        for i in range(len(word)):\n",
    "            bucket=word[:i] + '_' + word[i+1:]\n",
    "            \n",
    "            if bucket in d:\n",
    "                d[bucket].append(word)\n",
    "            else:\n",
    "                d[bucket]=[word]\n",
    "    \n",
    "    for bucket in d:\n",
    "        for word1 in d[bucket]:\n",
    "            for word2 in d[bucket]:\n",
    "                if word1!=word2:\n",
    "                    wordLetter.addEdge(word1,word2)\n",
    "    print(d)\n",
    "                \n",
    "    "
   ]
  },
  {
   "cell_type": "code",
   "execution_count": 14,
   "metadata": {},
   "outputs": [
    {
     "name": "stdout",
     "output_type": "stream",
     "text": [
      "{'?ope': ['pope', 'rope'], 'p?pe': ['pope', 'pipe'], 'po?e': ['pope'], 'pop?': ['pope'], 'r?pe': ['rope', 'ripe'], 'ro?e': ['rope'], 'rop?': ['rope'], '?age': ['sage'], 's?ge': ['sage'], 'sa?e': ['sage'], 'sag?': ['sage'], '?est': ['best'], 'b?st': ['best'], 'be?t': ['best'], 'bes?': ['best'], '?ipe': ['ripe', 'pipe'], 'ri?e': ['ripe'], 'rip?': ['ripe'], 'pi?e': ['pipe'], 'pip?': ['pipe']}\n"
     ]
    }
   ],
   "source": [
    "buildGraph([\"pope\",\n",
    "\"rope\",\n",
    "\"sage\",\n",
    "\"best\",\n",
    "\"ripe\",\n",
    "\"pipe\"])"
   ]
  },
  {
   "cell_type": "code",
   "execution_count": 7,
   "metadata": {},
   "outputs": [
    {
     "ename": "NameError",
     "evalue": "name 'wordLetter' is not defined",
     "output_type": "error",
     "traceback": [
      "\u001b[1;31m---------------------------------------------------------------------------\u001b[0m",
      "\u001b[1;31mNameError\u001b[0m                                 Traceback (most recent call last)",
      "\u001b[1;32m<ipython-input-7-8ed357c13e0f>\u001b[0m in \u001b[0;36m<module>\u001b[1;34m\u001b[0m\n\u001b[1;32m----> 1\u001b[1;33m \u001b[0mprint\u001b[0m\u001b[1;33m(\u001b[0m\u001b[0mwordLetter\u001b[0m\u001b[1;33m)\u001b[0m\u001b[1;33m\u001b[0m\u001b[1;33m\u001b[0m\u001b[0m\n\u001b[0m",
      "\u001b[1;31mNameError\u001b[0m: name 'wordLetter' is not defined"
     ]
    }
   ],
   "source": [
    "print()"
   ]
  },
  {
   "cell_type": "code",
   "execution_count": 8,
   "metadata": {},
   "outputs": [],
   "source": [
    "graph = {'A': set(['B', 'C']),\n",
    "         'B': set(['A', 'D', 'E']),\n",
    "         'C': set(['A', 'F']),\n",
    "         'D': set(['B']),\n",
    "         'E': set(['B', 'F']),\n",
    "         'F': set(['C', 'E'])}"
   ]
  },
  {
   "cell_type": "code",
   "execution_count": 19,
   "metadata": {},
   "outputs": [
    {
     "name": "stdout",
     "output_type": "stream",
     "text": [
      "{'C', 'B'}\n",
      "{'C', 'B'}\n",
      "{'D', 'E'}\n",
      "{'D', 'E'}\n",
      "{'F'}\n",
      "{'F'}\n"
     ]
    },
    {
     "data": {
      "text/plain": [
       "[['A', 'B', 'E', 'F'], ['A', 'C', 'F']]"
      ]
     },
     "execution_count": 19,
     "metadata": {},
     "output_type": "execute_result"
    }
   ],
   "source": [
    "def dfs_paths(graph, start, goal):\n",
    "    stack = [(start, [start])]\n",
    "    #print(stack)\n",
    "    while stack:\n",
    "        (vertex, path) = stack.pop()\n",
    "        #print(vertex,path)\n",
    "        for nxt in graph[vertex] - set(path):\n",
    "            print(graph[vertex] - set(path))\n",
    "            if nxt == goal:\n",
    "                yield path + [nxt]\n",
    "            else:\n",
    "                stack.append((nxt, path + [nxt]))\n",
    "            #print(path + [nxt])\n",
    "\n",
    "list(dfs_paths(graph, 'A', 'F'))"
   ]
  },
  {
   "cell_type": "code",
   "execution_count": 17,
   "metadata": {},
   "outputs": [
    {
     "name": "stdout",
     "output_type": "stream",
     "text": [
      "0\n",
      "2\n",
      "4\n",
      "6\n",
      "8\n"
     ]
    }
   ],
   "source": [
    "def fun():\n",
    "    for i in range(10):\n",
    "        if i%2==0:\n",
    "            yield i\n",
    "\n",
    "for j in fun():\n",
    "    print(j)"
   ]
  },
  {
   "cell_type": "code",
   "execution_count": 58,
   "metadata": {},
   "outputs": [],
   "source": [
    "class Vertex:\n",
    "    def __init__(self,key):\n",
    "        self.adj_list={}\n",
    "        self.id=key\n",
    "    \n",
    "    def addNeighbour(self,n,weight=0):\n",
    "        self.adj_list[n]=weight\n",
    "    \n",
    "    def getConnections(self):\n",
    "        return self.adj_list.keys()\n",
    "    \n",
    "    \n",
    "    \n",
    "    def __str__(self):\n",
    "        return str(self.id) + str([x for x in adj_list])\n",
    "\n",
    "class Graph:\n",
    "    \n",
    "    def __init__(self):\n",
    "        self.dic={}\n",
    "        \n",
    "    def addVertex(self,n):\n",
    "        newV=Vertex(n)\n",
    "        self.dic[n]=newV\n",
    "        \n",
    "    def addEdges(self,s,e,w=0):\n",
    "        if s not in self.dic:\n",
    "            self.addVertex(s)\n",
    "        if e not in self.dic:\n",
    "            self.addVertex(e)\n",
    "        \n",
    "        self.dic[s].addNeighbour(self.dic[e],w)\n",
    "    \n",
    "    def getVertex(self,key):\n",
    "        \n",
    "        if key in self.dic:\n",
    "            return self.dic[key]\n",
    "        else:\n",
    "            return None\n",
    "        \n",
    "    def __iter__(self):\n",
    "        \n",
    "        return iter(self.dic.values())\n",
    "    \n",
    "        \n",
    "            \n",
    "            \n",
    "        \n",
    "    "
   ]
  },
  {
   "cell_type": "code",
   "execution_count": 55,
   "metadata": {},
   "outputs": [],
   "source": [
    "g=Graph()"
   ]
  },
  {
   "cell_type": "code",
   "execution_count": 56,
   "metadata": {},
   "outputs": [],
   "source": [
    "g.addEdges(\"A\",\"B\")\n",
    "g.addEdges(\"A\",\"C\")\n",
    "g.addEdges(\"B\",\"A\")\n",
    "g.addEdges(\"B\",\"D\")\n",
    "g.addEdges(\"B\",\"E\")\n"
   ]
  },
  {
   "cell_type": "code",
   "execution_count": 64,
   "metadata": {},
   "outputs": [
    {
     "ename": "TypeError",
     "evalue": "'Graph' object is not subscriptable",
     "output_type": "error",
     "traceback": [
      "\u001b[1;31m---------------------------------------------------------------------------\u001b[0m",
      "\u001b[1;31mTypeError\u001b[0m                                 Traceback (most recent call last)",
      "\u001b[1;32m<ipython-input-64-2512e7b95fd2>\u001b[0m in \u001b[0;36m<module>\u001b[1;34m\u001b[0m\n\u001b[1;32m----> 1\u001b[1;33m \u001b[0mg\u001b[0m\u001b[1;33m[\u001b[0m\u001b[1;34m\"A\"\u001b[0m\u001b[1;33m]\u001b[0m\u001b[1;33m\u001b[0m\u001b[1;33m\u001b[0m\u001b[0m\n\u001b[0m",
      "\u001b[1;31mTypeError\u001b[0m: 'Graph' object is not subscriptable"
     ]
    }
   ],
   "source": [
    "g[\"A\"]"
   ]
  },
  {
   "cell_type": "code",
   "execution_count": 61,
   "metadata": {},
   "outputs": [],
   "source": [
    "def dfs(graph,start):\n",
    "    visited=set()\n",
    "    stack=[start]\n",
    "    while stack:\n",
    "        vertex=stack.pop()\n",
    "        if vertex not in visited:\n",
    "            visited.add(vertex)\n",
    "        stack.extend( (g.getVertex(vertex)))\n",
    "    return visited"
   ]
  },
  {
   "cell_type": "code",
   "execution_count": 62,
   "metadata": {},
   "outputs": [
    {
     "ename": "TypeError",
     "evalue": "'Vertex' object is not iterable",
     "output_type": "error",
     "traceback": [
      "\u001b[1;31m---------------------------------------------------------------------------\u001b[0m",
      "\u001b[1;31mTypeError\u001b[0m                                 Traceback (most recent call last)",
      "\u001b[1;32m<ipython-input-62-c20752fe643f>\u001b[0m in \u001b[0;36m<module>\u001b[1;34m\u001b[0m\n\u001b[1;32m----> 1\u001b[1;33m \u001b[0mdfs\u001b[0m\u001b[1;33m(\u001b[0m\u001b[0mg\u001b[0m\u001b[1;33m,\u001b[0m\u001b[1;34m\"A\"\u001b[0m\u001b[1;33m)\u001b[0m\u001b[1;33m\u001b[0m\u001b[1;33m\u001b[0m\u001b[0m\n\u001b[0m",
      "\u001b[1;32m<ipython-input-61-5c2794060b18>\u001b[0m in \u001b[0;36mdfs\u001b[1;34m(graph, start)\u001b[0m\n\u001b[0;32m      6\u001b[0m         \u001b[1;32mif\u001b[0m \u001b[0mvertex\u001b[0m \u001b[1;32mnot\u001b[0m \u001b[1;32min\u001b[0m \u001b[0mvisited\u001b[0m\u001b[1;33m:\u001b[0m\u001b[1;33m\u001b[0m\u001b[1;33m\u001b[0m\u001b[0m\n\u001b[0;32m      7\u001b[0m             \u001b[0mvisited\u001b[0m\u001b[1;33m.\u001b[0m\u001b[0madd\u001b[0m\u001b[1;33m(\u001b[0m\u001b[0mvertex\u001b[0m\u001b[1;33m)\u001b[0m\u001b[1;33m\u001b[0m\u001b[1;33m\u001b[0m\u001b[0m\n\u001b[1;32m----> 8\u001b[1;33m         \u001b[0mstack\u001b[0m\u001b[1;33m.\u001b[0m\u001b[0mextend\u001b[0m\u001b[1;33m(\u001b[0m \u001b[1;33m(\u001b[0m\u001b[0mg\u001b[0m\u001b[1;33m.\u001b[0m\u001b[0mgetVertex\u001b[0m\u001b[1;33m(\u001b[0m\u001b[0mvertex\u001b[0m\u001b[1;33m)\u001b[0m\u001b[1;33m)\u001b[0m\u001b[1;33m)\u001b[0m\u001b[1;33m\u001b[0m\u001b[1;33m\u001b[0m\u001b[0m\n\u001b[0m\u001b[0;32m      9\u001b[0m     \u001b[1;32mreturn\u001b[0m \u001b[0mvisited\u001b[0m\u001b[1;33m\u001b[0m\u001b[1;33m\u001b[0m\u001b[0m\n",
      "\u001b[1;31mTypeError\u001b[0m: 'Vertex' object is not iterable"
     ]
    }
   ],
   "source": [
    "dfs(g,\"A\")"
   ]
  },
  {
   "cell_type": "code",
   "execution_count": null,
   "metadata": {},
   "outputs": [],
   "source": []
  }
 ],
 "metadata": {
  "kernelspec": {
   "display_name": "Python 3",
   "language": "python",
   "name": "python3"
  },
  "language_info": {
   "codemirror_mode": {
    "name": "ipython",
    "version": 3
   },
   "file_extension": ".py",
   "mimetype": "text/x-python",
   "name": "python",
   "nbconvert_exporter": "python",
   "pygments_lexer": "ipython3",
   "version": "3.7.3"
  }
 },
 "nbformat": 4,
 "nbformat_minor": 2
}
