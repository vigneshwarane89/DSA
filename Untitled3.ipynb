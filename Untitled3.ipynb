{
 "cells": [
  {
   "cell_type": "code",
   "execution_count": 12,
   "metadata": {
    "scrolled": true
   },
   "outputs": [
    {
     "name": "stdout",
     "output_type": "stream",
     "text": [
      "ranjan\n",
      "5\n",
      "rnjaan\n",
      "rjaann\n",
      "nnaajr\n",
      "rr\n",
      "ee\n",
      "3\n"
     ]
    }
   ],
   "source": [
    "s=input().strip()\n",
    "n=int(input())\n",
    "direct=[]\n",
    "for i in range(n):\n",
    "    direct.append(input())\n",
    "sum=0\n",
    "count=0\n",
    "for i in range(len(s)):\n",
    "    sum+=ord(s[i])\n",
    "for i in direct:\n",
    "    if len(i)!=len(s):\n",
    "        break\n",
    "    temp = 0\n",
    "    for j in range(len(i)):\n",
    "        temp+=ord(i[j])\n",
    "            \n",
    "    if temp == sum:\n",
    "        count+=1\n",
    "print(count)"
   ]
  },
  {
   "cell_type": "code",
   "execution_count": 8,
   "metadata": {},
   "outputs": [
    {
     "name": "stdout",
     "output_type": "stream",
     "text": [
      "0\n"
     ]
    }
   ],
   "source": [
    "for i in direct:\n",
    "    temp = 0\n",
    "    for j in range(len(i)):\n",
    "        temp+=ord(i[j][0])\n",
    "            \n",
    "    if temp == sum:\n",
    "        count+=1\n",
    "print(count)"
   ]
  },
  {
   "cell_type": "code",
   "execution_count": 11,
   "metadata": {},
   "outputs": [
    {
     "name": "stdout",
     "output_type": "stream",
     "text": [
      "a\n",
      "r\n",
      "r\n",
      "r\n",
      "a\n"
     ]
    }
   ],
   "source": [
    "for i in direct:\n",
    "    print(i[0][0])"
   ]
  },
  {
   "cell_type": "code",
   "execution_count": null,
   "metadata": {},
   "outputs": [],
   "source": []
  },
  {
   "cell_type": "code",
   "execution_count": null,
   "metadata": {},
   "outputs": [],
   "source": []
  },
  {
   "cell_type": "code",
   "execution_count": null,
   "metadata": {},
   "outputs": [],
   "source": [
    "\n",
    "    \n"
   ]
  },
  {
   "cell_type": "code",
   "execution_count": 59,
   "metadata": {},
   "outputs": [],
   "source": [
    "def rec(x,y,a,b,count):\n",
    "    if x==a and y==b:\n",
    "        count.append(1)\n",
    "        return \n",
    "    if x<a:\n",
    "        rec(x+1,y,a,b,count)\n",
    "    if y<b:\n",
    "        rec(x,y+1,a,b,count)\n",
    "    return\n",
    "\n",
    "def isrec():\n",
    "    x,y=0,0\n",
    "    a,b=2,2\n",
    "    count=[]\n",
    "    rec(x,y,a,b,count)\n",
    "    print(len(count))\n",
    "    "
   ]
  },
  {
   "cell_type": "code",
   "execution_count": 60,
   "metadata": {},
   "outputs": [
    {
     "name": "stdout",
     "output_type": "stream",
     "text": [
      "6\n"
     ]
    }
   ],
   "source": [
    "isrec()"
   ]
  },
  {
   "cell_type": "code",
   "execution_count": 67,
   "metadata": {},
   "outputs": [
    {
     "name": "stdout",
     "output_type": "stream",
     "text": [
      "0 1 -- 1 2 -- 2 3 -- 3 4 -- 4 5 -- 5 6 -- 6 7 -- 7 8 -- 8 9 -- 9 10 -- 10 11 -- 11 12 -- 12 13 -- 13 14 -- \n",
      "0 2 -- 1 3 -- 2 4 -- 3 5 -- 4 6 -- 5 7 -- 6 8 -- 7 9 -- 8 10 -- 9 11 -- 10 12 -- 11 13 -- 12 14 -- \n",
      "0 3 -- 1 4 -- 2 5 -- 3 6 -- 4 7 -- 5 8 -- 6 9 -- 7 10 -- 8 11 -- 9 12 -- 10 13 -- 11 14 -- \n",
      "0 4 -- 1 5 -- 2 6 -- 3 7 -- 4 8 -- 5 9 -- 6 10 -- 7 11 -- 8 12 -- 9 13 -- 10 14 -- \n",
      "0 5 -- 1 6 -- 2 7 -- 3 8 -- 4 9 -- 5 10 -- 6 11 -- 7 12 -- 8 13 -- 9 14 -- \n",
      "0 6 -- 1 7 -- 2 8 -- 3 9 -- 4 10 -- 5 11 -- 6 12 -- 7 13 -- 8 14 -- \n",
      "0 7 -- 1 8 -- 2 9 -- 3 10 -- 4 11 -- 5 12 -- 6 13 -- 7 14 -- \n",
      "0 8 -- 1 9 -- 2 10 -- 3 11 -- 4 12 -- 5 13 -- 6 14 -- \n",
      "0 9 -- 1 10 -- 2 11 -- 3 12 -- 4 13 -- 5 14 -- \n",
      "0 10 -- 1 11 -- 2 12 -- 3 13 -- 4 14 -- \n",
      "0 11 -- 1 12 -- 2 13 -- 3 14 -- \n",
      "0 12 -- 1 13 -- 2 14 -- \n",
      "0 13 -- 1 14 -- \n"
     ]
    }
   ],
   "source": [
    "for i in range(1,14):\n",
    "    for j in range(14-i+1):\n",
    "        print(j,j+i,end=\" -- \")\n",
    "    print()"
   ]
  },
  {
   "cell_type": "code",
   "execution_count": 66,
   "metadata": {},
   "outputs": [
    {
     "name": "stdout",
     "output_type": "stream",
     "text": [
      "a\n",
      "p\n",
      "p\n",
      "l\n",
      "e\n",
      "p\n",
      "e\n",
      "n\n",
      "a\n",
      "p\n",
      "p\n",
      "l\n",
      "e\n",
      "ap\n",
      "pp\n",
      "pl\n",
      "le\n",
      "ep\n",
      "pe\n",
      "en\n",
      "na\n",
      "ap\n",
      "pp\n",
      "pl\n",
      "le\n",
      "app\n",
      "ppl\n",
      "ple\n",
      "lep\n",
      "epe\n",
      "pen\n",
      "ena\n",
      "nap\n",
      "app\n",
      "ppl\n",
      "ple\n",
      "appl\n",
      "pple\n",
      "plep\n",
      "lepe\n",
      "epen\n",
      "pena\n",
      "enap\n",
      "napp\n",
      "appl\n",
      "pple\n",
      "apple\n",
      "pplep\n",
      "plepe\n",
      "lepen\n",
      "epena\n",
      "penap\n",
      "enapp\n",
      "nappl\n",
      "apple\n",
      "applep\n",
      "pplepe\n",
      "plepen\n",
      "lepena\n",
      "epenap\n",
      "penapp\n",
      "enappl\n",
      "napple\n",
      "applepe\n",
      "pplepen\n",
      "plepena\n",
      "lepenap\n",
      "epenapp\n",
      "penappl\n",
      "enapple\n",
      "applepen\n",
      "pplepena\n",
      "plepenap\n",
      "lepenapp\n",
      "epenappl\n",
      "penapple\n",
      "applepena\n",
      "pplepenap\n",
      "plepenapp\n",
      "lepenappl\n",
      "epenapple\n",
      "applepenap\n",
      "pplepenapp\n",
      "plepenappl\n",
      "lepenapple\n",
      "applepenapp\n",
      "pplepenappl\n",
      "plepenapple\n",
      "applepenappl\n",
      "pplepenapple\n",
      "applepenapple\n",
      "True\n"
     ]
    }
   ],
   "source": [
    "class Solution(object):\n",
    "   def wordBreak(self, s, wordDict):\n",
    "      dp = [[False for i in range(len(s))] for x in range(len(s))]\n",
    "      for i in range(1,len(s)+1):\n",
    "         for j in range(len(s)-i+1):\n",
    "            print(s[j:j+i])\n",
    "            if s[j:j+i] in wordDict:\n",
    "               dp[j][j+i-1] = True\n",
    "            else:\n",
    "               for k in range(j+1,j+i):\n",
    "                  if dp[j][k-1] and dp[k][j+i-1]:\n",
    "                     dp[j][j+i-1]= True\n",
    "      return dp[0][len(s) - 1]\n",
    "ob1 = Solution()\n",
    "print(ob1.wordBreak(\"applepenapple\", [\"apple\", \"pen\"]))"
   ]
  },
  {
   "cell_type": "code",
   "execution_count": null,
   "metadata": {},
   "outputs": [],
   "source": []
  }
 ],
 "metadata": {
  "kernelspec": {
   "display_name": "Python 3",
   "language": "python",
   "name": "python3"
  },
  "language_info": {
   "codemirror_mode": {
    "name": "ipython",
    "version": 3
   },
   "file_extension": ".py",
   "mimetype": "text/x-python",
   "name": "python",
   "nbconvert_exporter": "python",
   "pygments_lexer": "ipython3",
   "version": "3.7.3"
  }
 },
 "nbformat": 4,
 "nbformat_minor": 2
}
