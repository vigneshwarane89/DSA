{
 "cells": [
  {
   "cell_type": "code",
   "execution_count": 1,
   "metadata": {},
   "outputs": [
    {
     "name": "stdout",
     "output_type": "stream",
     "text": [
      "Array\n"
     ]
    }
   ],
   "source": [
    "print(\"Array\")"
   ]
  },
  {
   "cell_type": "code",
   "execution_count": 2,
   "metadata": {},
   "outputs": [],
   "source": [
    "a=[1,2,3]"
   ]
  },
  {
   "cell_type": "markdown",
   "metadata": {},
   "source": [
    "# Dynamic Array\n"
   ]
  },
  {
   "cell_type": "code",
   "execution_count": 4,
   "metadata": {},
   "outputs": [
    {
     "name": "stdout",
     "output_type": "stream",
     "text": [
      "Length: 96 \n",
      "Length: 96 \n",
      "Length: 96 \n",
      "Length: 96 \n",
      "Length:128 \n"
     ]
    }
   ],
   "source": [
    "import sys\n",
    "\n",
    "data=[]\n",
    "\n",
    "for i in range(5):\n",
    "    data.append(i)\n",
    "    print(\"Length:{0:3d} \".format(sys.getsizeof(data)))"
   ]
  },
  {
   "cell_type": "markdown",
   "metadata": {},
   "source": [
    "# Anagram\n"
   ]
  },
  {
   "cell_type": "code",
   "execution_count": 32,
   "metadata": {},
   "outputs": [],
   "source": [
    "def anagram(word1,word2):\n",
    "    dict1={}\n",
    "    dict2={}\n",
    "    word1=word1.replace(' ','')\n",
    "    word2=word2.replace(' ','')\n",
    "    \n",
    "    if len(word1)!= len(word2):\n",
    "        return False\n",
    "    \n",
    "    for i in range(len(word1)):\n",
    "        if word1[i] not in dict1:\n",
    "            dict1[word1[i].lower()]=1\n",
    "        else:\n",
    "            dict1[word1[i].lower()]+=1\n",
    "            \n",
    "        if word2[i] not in dict2:\n",
    "            dict2[word2[i].lower()]=1\n",
    "        else:\n",
    "            dict2[word2[i].lower()]+=1\n",
    "    #print(sorted(dict1))\n",
    "    #print(sorted(dict2))\n",
    "    if dict1 == dict2:\n",
    "        return True\n",
    "    return False\n",
    "        "
   ]
  },
  {
   "cell_type": "code",
   "execution_count": 33,
   "metadata": {},
   "outputs": [
    {
     "data": {
      "text/plain": [
       "True"
      ]
     },
     "execution_count": 33,
     "metadata": {},
     "output_type": "execute_result"
    }
   ],
   "source": [
    "anagram(\"dog\",\"g o d\")"
   ]
  },
  {
   "cell_type": "markdown",
   "metadata": {},
   "source": [
    "# Array Pair Sum"
   ]
  },
  {
   "cell_type": "code",
   "execution_count": 34,
   "metadata": {},
   "outputs": [],
   "source": [
    "def pair_sum(arr,k):\n",
    "    count=0\n",
    "    for i in range(len(arr)):\n",
    "        \n",
    "        for j in range(i+1,len(arr)):\n",
    "            if arr[i]+arr[j] == k:\n",
    "                count+=1\n",
    "    return count\n",
    "                "
   ]
  },
  {
   "cell_type": "code",
   "execution_count": 36,
   "metadata": {},
   "outputs": [
    {
     "data": {
      "text/plain": [
       "5"
      ]
     },
     "execution_count": 36,
     "metadata": {},
     "output_type": "execute_result"
    }
   ],
   "source": [
    "pair_sum([1,3,2,2,3,2],4)"
   ]
  },
  {
   "cell_type": "code",
   "execution_count": 7,
   "metadata": {},
   "outputs": [],
   "source": [
    "\n",
    "def pair_sum1(arr,k):\n",
    "    \n",
    "    if len(arr)<2:\n",
    "        return\n",
    "    \n",
    "    # Sets for tracking\n",
    "    seen = set()\n",
    "    output = set()\n",
    "    \n",
    "    # For every number in array\n",
    "    for num in arr:\n",
    "        \n",
    "        # Set target difference\n",
    "        target = k-num\n",
    "        print(\"target:\",target)\n",
    "        \n",
    "        # Add it to set if target hasn't been seen\n",
    "        if target not in seen:\n",
    "            seen.add(num)\n",
    "            print(\"seen:\",seen)\n",
    "        \n",
    "        else:\n",
    "            # Add a tuple with the corresponding pair\n",
    "            output.add( (min(num,target),  max(num,target)) )\n",
    "    \n",
    "    \n",
    "    # FOR TESTING\n",
    "    return len(output)\n",
    "    # Nice one-liner for printing output\n",
    "    #return '\\n'.join(map(str,list(output)))"
   ]
  },
  {
   "cell_type": "code",
   "execution_count": 8,
   "metadata": {},
   "outputs": [
    {
     "name": "stdout",
     "output_type": "stream",
     "text": [
      "target: 3\n",
      "seen: {1}\n",
      "target: 1\n",
      "target: 2\n",
      "seen: {1, 2}\n",
      "target: 2\n"
     ]
    },
    {
     "data": {
      "text/plain": [
       "2"
      ]
     },
     "execution_count": 8,
     "metadata": {},
     "output_type": "execute_result"
    }
   ],
   "source": [
    "\n",
    "pair_sum1([1,3,2,2],4)"
   ]
  },
  {
   "cell_type": "code",
   "execution_count": 1,
   "metadata": {},
   "outputs": [],
   "source": [
    "def array_sum2(arr,k):\n",
    "    \n",
    "    seen=set()\n",
    "    output=set()\n",
    "    \n",
    "    for i in arr:\n",
    "        target = k-i\n",
    "        \n",
    "        if target not in seen:\n",
    "            seen.add(i)\n",
    "        else:\n",
    "            output.add((i,target))\n",
    "    return len(output)\n",
    "    "
   ]
  },
  {
   "cell_type": "code",
   "execution_count": 3,
   "metadata": {},
   "outputs": [
    {
     "data": {
      "text/plain": [
       "3"
      ]
     },
     "execution_count": 3,
     "metadata": {},
     "output_type": "execute_result"
    }
   ],
   "source": [
    "array_sum2([1,2,3,0,0,3,1,2,4,-1],3)"
   ]
  },
  {
   "cell_type": "markdown",
   "metadata": {},
   "source": [
    "# find Missing element\n"
   ]
  },
  {
   "cell_type": "code",
   "execution_count": 9,
   "metadata": {},
   "outputs": [],
   "source": [
    "def finder(arr1,arr2):\n",
    "    \n",
    "    s1=set(arr1)\n",
    "    s2=set(arr2)\n",
    "    \n",
    "    return (s1.difference(s2))"
   ]
  },
  {
   "cell_type": "code",
   "execution_count": 10,
   "metadata": {},
   "outputs": [
    {
     "data": {
      "text/plain": [
       "'{ 3 }'"
      ]
     },
     "execution_count": 10,
     "metadata": {},
     "output_type": "execute_result"
    }
   ],
   "source": [
    "finder([1,2,3],[1,2])"
   ]
  },
  {
   "cell_type": "code",
   "execution_count": 46,
   "metadata": {},
   "outputs": [],
   "source": [
    "def finder1(arr1,arr2):\n",
    "    \n",
    "    max_arr=max(arr1,arr2)\n",
    "    min_arr=min(arr1,arr2)\n",
    "    l=len(min_arr)\n",
    "    #print(max_arr,min_arr,l)\n",
    "    \n",
    "    for i in range(l):\n",
    "        \n",
    "        if min_arr[i] in max_arr:\n",
    "            #print(min_arr[i])\n",
    "            max_arr.pop(max_arr.index(min_arr[i]))\n",
    "    return max_arr\n",
    "        \n",
    "            \n",
    "        \n",
    "    \n",
    "    "
   ]
  },
  {
   "cell_type": "code",
   "execution_count": 55,
   "metadata": {},
   "outputs": [
    {
     "data": {
      "text/plain": [
       "[5, 6, 7]"
      ]
     },
     "execution_count": 55,
     "metadata": {},
     "output_type": "execute_result"
    }
   ],
   "source": [
    "finder1([1,2,3,5,6,7],[1,2,3,4,32,2])"
   ]
  },
  {
   "cell_type": "code",
   "execution_count": 53,
   "metadata": {},
   "outputs": [],
   "source": [
    "def finder2(arr1,arr2):\n",
    "    \n",
    "    arr1.sort()\n",
    "    arr2.sort()\n",
    "    \n",
    "    for n1,n2 in zip(arr1,arr2):\n",
    "        if n1!=n2:\n",
    "            return n1\n",
    "    return arr1[-1]\n",
    "            "
   ]
  },
  {
   "cell_type": "code",
   "execution_count": 58,
   "metadata": {},
   "outputs": [
    {
     "data": {
      "text/plain": [
       "3"
      ]
     },
     "execution_count": 58,
     "metadata": {},
     "output_type": "execute_result"
    }
   ],
   "source": [
    "finder2([1,2,3,4,5],[1,2,5,4])"
   ]
  },
  {
   "cell_type": "code",
   "execution_count": 62,
   "metadata": {},
   "outputs": [],
   "source": [
    "def finder3(arr1, arr2): \n",
    "    result=0 \n",
    "    \n",
    "    # Perform an XOR between the numbers in the arrays\n",
    "    for num in arr1+arr2: \n",
    "        print(result,num)\n",
    "        result=result^num \n",
    "        print(result)\n",
    "        \n",
    "    return result"
   ]
  },
  {
   "cell_type": "code",
   "execution_count": 63,
   "metadata": {},
   "outputs": [
    {
     "name": "stdout",
     "output_type": "stream",
     "text": [
      "0 1\n",
      "1\n",
      "1 2\n",
      "3\n",
      "3 3\n",
      "0\n",
      "0 4\n",
      "4\n",
      "4 5\n",
      "1\n",
      "1 1\n",
      "0\n",
      "0 2\n",
      "2\n",
      "2 5\n",
      "7\n",
      "7 4\n",
      "3\n"
     ]
    },
    {
     "data": {
      "text/plain": [
       "3"
      ]
     },
     "execution_count": 63,
     "metadata": {},
     "output_type": "execute_result"
    }
   ],
   "source": [
    "finder3([1,2,3,4,5],[1,2,5,4])"
   ]
  },
  {
   "cell_type": "markdown",
   "metadata": {},
   "source": [
    "# Largest continous sum"
   ]
  },
  {
   "cell_type": "code",
   "execution_count": 41,
   "metadata": {},
   "outputs": [],
   "source": [
    "def large_cont_sum(arr):\n",
    "    \n",
    "    sum_=0\n",
    "    l=0\n",
    "    #l_final=0\n",
    "    sum_final=0\n",
    "    #arr.append(0)\n",
    "    \n",
    "    if len(arr)==1:\n",
    "        return arr\n",
    "    \n",
    "    \n",
    "    for i in range(len(arr)-1):\n",
    "        #print(arr[i])\n",
    "        \n",
    "        if arr[i]<=arr[i+1]:\n",
    "            sum_+=arr[i]\n",
    "            print(arr[i],sum_)\n",
    "            \n",
    "        else:\n",
    "            if sum_>sum_final:\n",
    "                sum_final=sum_\n",
    "            sum_=0\n",
    "            #sum_+=arr[i]\n",
    "            \n",
    "    else:\n",
    "        if sum_>sum_final:\n",
    "                sum_final=sum_\n",
    "    return sum_final\n",
    "        \n",
    "                \n",
    "            \n",
    "            \n",
    "            \n",
    "            "
   ]
  },
  {
   "cell_type": "code",
   "execution_count": 42,
   "metadata": {},
   "outputs": [
    {
     "name": "stdout",
     "output_type": "stream",
     "text": [
      "1 1\n",
      "-1 -1\n",
      "3 2\n",
      "4 6\n",
      "10 16\n",
      "-10 -10\n"
     ]
    },
    {
     "data": {
      "text/plain": [
       "16"
      ]
     },
     "execution_count": 42,
     "metadata": {},
     "output_type": "execute_result"
    }
   ],
   "source": [
    "large_cont_sum([1,2,-1,3,4,10,10,-10,1])"
   ]
  },
  {
   "cell_type": "code",
   "execution_count": 9,
   "metadata": {},
   "outputs": [],
   "source": [
    "def large_cont_sum1(arr):\n",
    "    \n",
    "    if len(arr)==0:\n",
    "        return 0\n",
    "    max_sum=current=arr[0]\n",
    "    \n",
    "    for num in arr[1:]:\n",
    "        print(current)\n",
    "        current=max(current+num,num)\n",
    "        print(current+num,num)\n",
    "        \n",
    "        max_sum=max(current,max_sum)\n",
    "        \n",
    "    return max_sum"
   ]
  },
  {
   "cell_type": "code",
   "execution_count": 10,
   "metadata": {},
   "outputs": [
    {
     "name": "stdout",
     "output_type": "stream",
     "text": [
      "1\n",
      "5 2\n",
      "3\n",
      "1 -1\n",
      "2\n",
      "8 3\n",
      "5\n",
      "13 4\n",
      "9\n",
      "29 10\n",
      "19\n",
      "39 10\n",
      "29\n",
      "9 -10\n",
      "19\n",
      "21 1\n"
     ]
    },
    {
     "data": {
      "text/plain": [
       "29"
      ]
     },
     "execution_count": 10,
     "metadata": {},
     "output_type": "execute_result"
    }
   ],
   "source": [
    "large_cont_sum1([1,2,-1,3,4,10,10,-10,1])"
   ]
  },
  {
   "cell_type": "markdown",
   "metadata": {},
   "source": [
    "# Sentence Reversal"
   ]
  },
  {
   "cell_type": "code",
   "execution_count": 14,
   "metadata": {},
   "outputs": [
    {
     "ename": "SyntaxError",
     "evalue": "unexpected EOF while parsing (<ipython-input-14-786d9cbcc7d6>, line 6)",
     "output_type": "error",
     "traceback": [
      "\u001b[1;36m  File \u001b[1;32m\"<ipython-input-14-786d9cbcc7d6>\"\u001b[1;36m, line \u001b[1;32m6\u001b[0m\n\u001b[1;33m    \u001b[0m\n\u001b[1;37m    ^\u001b[0m\n\u001b[1;31mSyntaxError\u001b[0m\u001b[1;31m:\u001b[0m unexpected EOF while parsing\n"
     ]
    }
   ],
   "source": [
    "def rev_word(s):\n",
    "    s=s.strip()\n",
    "    \n",
    "    \n",
    "    for word in s:\n",
    "        "
   ]
  },
  {
   "cell_type": "code",
   "execution_count": 12,
   "metadata": {},
   "outputs": [
    {
     "name": "stdout",
     "output_type": "stream",
     "text": [
      "T\n",
      "h\n",
      "i\n",
      "s\n",
      " \n",
      "i\n",
      "s\n",
      " \n",
      "B\n",
      "e\n",
      "s\n",
      "t\n"
     ]
    }
   ],
   "source": [
    "rev_word('This is Best')"
   ]
  },
  {
   "cell_type": "code",
   "execution_count": null,
   "metadata": {},
   "outputs": [],
   "source": []
  }
 ],
 "metadata": {
  "kernelspec": {
   "display_name": "Python 3",
   "language": "python",
   "name": "python3"
  },
  "language_info": {
   "codemirror_mode": {
    "name": "ipython",
    "version": 3
   },
   "file_extension": ".py",
   "mimetype": "text/x-python",
   "name": "python",
   "nbconvert_exporter": "python",
   "pygments_lexer": "ipython3",
   "version": "3.7.3"
  }
 },
 "nbformat": 4,
 "nbformat_minor": 2
}
