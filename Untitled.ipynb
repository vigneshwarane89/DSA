{
 "cells": [
  {
   "cell_type": "code",
   "execution_count": 5,
   "metadata": {},
   "outputs": [
    {
     "name": "stdout",
     "output_type": "stream",
     "text": [
      "comparing A 0 : A 4\n",
      "comparing G 1 : G 0\n",
      "comparing G 2 : G 0\n",
      "comparing T 3 : T 2\n",
      "comparing A 4 : A 4\n",
      "comparing B 5 : B 6\n",
      "[[0, 0, 0, 0, 0, 0, 0, 0], [0, 0, 0, 0, 0, 1, 1, 1], [0, 1, 1, 1, 1, 1, 1, 1], [0, 1, 1, 1, 1, 1, 1, 1], [0, 1, 1, 2, 2, 2, 2, 2], [0, 1, 1, 2, 2, 3, 3, 3], [0, 1, 1, 2, 2, 3, 3, 4]]\n",
      "Length of LCS is  4\n"
     ]
    }
   ],
   "source": [
    "# Dynamic Programming implementation of LCS problem \n",
    "\n",
    "def lcs(X , Y): \n",
    "\t# find the length of the strings \n",
    "\tm = len(X) \n",
    "\tn = len(Y) \n",
    "\n",
    "\t# declaring the array for storing the dp values \n",
    "\tL = [[None]*(n+1) for i in range(m+1)]\n",
    "\t\n",
    "\n",
    "\t\"\"\"Following steps build L[m+1][n+1] in bottom up fashion \n",
    "\tNote: L[i][j] contains length of LCS of X[0..i-1] \n",
    "\tand Y[0..j-1]\"\"\"\n",
    "\tfor i in range(m+1): \n",
    "\t\tfor j in range(n+1): \n",
    "\t\t\tif i == 0 or j == 0 : \n",
    "\t\t\t\tL[i][j] = 0\n",
    "\t\t\telif X[i-1] == Y[j-1]: \n",
    "\t\t\t\tprint(\"comparing {} {} : {} {}\".format(X[i-1],i-1,Y[j-1],j-1))\n",
    "\t\t\t\tL[i][j] = L[i-1][j-1]+1\n",
    "\t\t\telse: \n",
    "\t\t\t\tL[i][j] = max(L[i-1][j] , L[i][j-1])\n",
    "\tprint(L)\n",
    "\n",
    "\t# L[m][n] contains the length of LCS of X[0..n-1] & Y[0..m-1] \n",
    "\treturn L[m][n] \n",
    "#end of function lcs \n",
    "\n",
    "\n",
    "# Driver program to test the above function \n",
    "X = \"AGGTAB\"\n",
    "Y = \"GXTXAYB\"\n",
    "print (\"Length of LCS is \", lcs(X, Y) )\n",
    "\n",
    "# This code is contributed by Nikhil Kumar Singh(nickzuck_007) \n"
   ]
  },
  {
   "cell_type": "code",
   "execution_count": 26,
   "metadata": {},
   "outputs": [],
   "source": [
    "def knapsack(W,weight,value,n):\n",
    "    if n==0 or W==0:\n",
    "        return 0\n",
    "    elif weight[n-1]>W:\n",
    "        return knapsack(W,weight,value,n-1)\n",
    "    else:\n",
    "        return max(value[n-1]+knapsack(W-weight[n-1],weight,value,n-1),knapsack(W,weight,value,n-1))"
   ]
  },
  {
   "cell_type": "code",
   "execution_count": 27,
   "metadata": {},
   "outputs": [
    {
     "data": {
      "text/plain": [
       "220"
      ]
     },
     "execution_count": 27,
     "metadata": {},
     "output_type": "execute_result"
    }
   ],
   "source": [
    "knapsack(50,[10,20,30],[60,100,120],3)"
   ]
  },
  {
   "cell_type": "code",
   "execution_count": 40,
   "metadata": {},
   "outputs": [],
   "source": [
    "def knapsack(w,wt,value,n,z):\n",
    "    \n",
    "    K = [[None]*(w+1) for i in range(n+1)]\n",
    "    \n",
    "    for i in range(n+1):\n",
    "        for j in range(w+1):\n",
    "            if i==0 or j==0:\n",
    "                K[i][j] = 0\n",
    "            elif wt[i-1] <=j:\n",
    "                K[i][j] = max(value[i - 1] + K[i - 1][j - wt[i - 1]], K[i - 1][j]) \n",
    "                \n",
    "            else:\n",
    "                K[i][j] = K[i - 1][j]\n",
    "        print(K[i])\n",
    "        print()\n",
    "    \n",
    "    return K[n][w]\n",
    "    "
   ]
  },
  {
   "cell_type": "code",
   "execution_count": 43,
   "metadata": {},
   "outputs": [
    {
     "name": "stdout",
     "output_type": "stream",
     "text": [
      "[0, 0, 0, 0, 0, 0, 0, 0, 0, 0, 0, 0, 0, 0, 0, 0, 0, 0, 0, 0, 0, 0, 0, 0, 0, 0, 0, 0, 0, 0, 0]\n",
      "\n",
      "[0, 0, 0, 0, 0, 0, 0, 0, 0, 0, 60, 60, 60, 60, 60, 60, 60, 60, 60, 60, 60, 60, 60, 60, 60, 60, 60, 60, 60, 60, 60]\n",
      "\n",
      "[0, 0, 0, 0, 0, 0, 0, 0, 0, 0, 60, 60, 60, 60, 60, 60, 60, 60, 60, 60, 100, 100, 100, 100, 100, 100, 100, 100, 100, 100, 160]\n",
      "\n",
      "[0, 0, 0, 0, 0, 0, 0, 0, 0, 0, 60, 60, 60, 60, 60, 60, 60, 60, 60, 60, 100, 100, 100, 100, 100, 100, 100, 100, 100, 100, 160]\n",
      "\n"
     ]
    },
    {
     "data": {
      "text/plain": [
       "160"
      ]
     },
     "execution_count": 43,
     "metadata": {},
     "output_type": "execute_result"
    }
   ],
   "source": [
    "knapsack(30,[10,20,30],[60,100,120],3,2)"
   ]
  },
  {
   "cell_type": "code",
   "execution_count": null,
   "metadata": {},
   "outputs": [],
   "source": [
    "def longc(x,y):\n",
    "    k=[[None]*(len(y)+1) for i in range(len(x)+1)]\n",
    "    \n",
    "    for i in range(len(x)+1):\n",
    "        for j in range(len(y)+1):\n",
    "            if i==0 or y==0:\n",
    "                k[i][j]=0\n",
    "            elif "
   ]
  },
  {
   "cell_type": "code",
   "execution_count": 55,
   "metadata": {},
   "outputs": [],
   "source": [
    "def thief(a,n):\n",
    "    k = [None]*(n+1)\n",
    "    k[0] = a[0]\n",
    "    k[1] = max(a[0],a[1])\n",
    "    for i in range(2,n):\n",
    "        k[i] = max(a[i]+k[i-2],k[i-1])\n",
    "        \n",
    "    return k[n-1]\n"
   ]
  },
  {
   "cell_type": "code",
   "execution_count": 57,
   "metadata": {},
   "outputs": [
    {
     "data": {
      "text/plain": [
       "140"
      ]
     },
     "execution_count": 57,
     "metadata": {},
     "output_type": "execute_result"
    }
   ],
   "source": [
    "thief([15,35,10,100,10,5],6)"
   ]
  },
  {
   "cell_type": "code",
   "execution_count": 72,
   "metadata": {},
   "outputs": [],
   "source": [
    "def bino(n,k):\n",
    "    c = [[0]*(k+1) for i in range(n+1)]\n",
    "    for i in range(n+1):\n",
    "        for j in range(min(i+1,k+1)):\n",
    "            if j == 0 or j==i:\n",
    "                c[i][j] = 1\n",
    "            else:\n",
    "                c[i][j] = c[i-1][j-1] + c[i-1][j]\n",
    "    print(c)\n",
    "    return c[n][k]\n",
    "        "
   ]
  },
  {
   "cell_type": "code",
   "execution_count": 73,
   "metadata": {},
   "outputs": [
    {
     "name": "stdout",
     "output_type": "stream",
     "text": [
      "[[1, 0, 0], [1, 1, 0], [1, 2, 1], [1, 3, 3], [1, 4, 6]]\n"
     ]
    },
    {
     "data": {
      "text/plain": [
       "6"
      ]
     },
     "execution_count": 73,
     "metadata": {},
     "output_type": "execute_result"
    }
   ],
   "source": [
    "bino(4,2)"
   ]
  },
  {
   "cell_type": "code",
   "execution_count": 87,
   "metadata": {},
   "outputs": [],
   "source": [
    "def minjumps(arr,n):\n",
    "    jumps = [0  for i in range(n)]\n",
    "    steps = [0  for i in range(n)]\n",
    "    \n",
    "    jumps[0] = 0\n",
    "    steps[0] = 0\n",
    "    for i in range(1,n):\n",
    "        jumps[i] = float('inf')\n",
    "        for j in range(i):\n",
    "            if i<= j+arr[j] and jumps[j]!=float('inf'):\n",
    "                jumps[i] = min(jumps[i],jumps[j]+1)\n",
    "                steps[i] = j+1 if (min(jumps[i],jumps[j]+1)) else steps[i]\n",
    "                break\n",
    "    while(n):\n",
    "        print(arr[n-1])\n",
    "        n = steps[n]\n",
    "        \n",
    "        \n",
    "    print(jumps)\n",
    "    return jumps[n-1],steps\n",
    "    \n",
    "            "
   ]
  },
  {
   "cell_type": "code",
   "execution_count": 89,
   "metadata": {},
   "outputs": [
    {
     "name": "stdout",
     "output_type": "stream",
     "text": [
      "[0, 1, 2, 2, 2, 3, 3, 3, 3, 3]\n"
     ]
    },
    {
     "data": {
      "text/plain": [
       "(3, [0, 1, 2, 2, 2, 3, 3, 3, 4, 4])"
      ]
     },
     "execution_count": 89,
     "metadata": {},
     "output_type": "execute_result"
    }
   ],
   "source": [
    "minjumps([1, 3, 5, 8, 9, 2, 6, 7, 6, 8, 9] ,10)"
   ]
  },
  {
   "cell_type": "code",
   "execution_count": 126,
   "metadata": {},
   "outputs": [],
   "source": [
    "def frac_knapsack(w,weight,value,n):\n",
    "    ratio=[]\n",
    "    for i in range(n):\n",
    "        ratio.append((value[i]/weight[i],weight[i],value[i]))\n",
    "    ratio.sort(reverse=True)\n",
    "    i=0\n",
    "    v=0\n",
    "    while(w>=0):\n",
    "        \n",
    "        w-=ratio[i][1]\n",
    "        v+=ratio[i][2]\n",
    "        i+=1\n",
    "     \n",
    "    else:\n",
    "        i-=1\n",
    "        w+=ratio[i][1]\n",
    "        v-=ratio[i][2]\n",
    "\n",
    "        v+= (w/ratio[i][1])*ratio[i][2]\n",
    "        \n",
    "        \n",
    "        \n",
    "        \n",
    "        \n",
    "    return int(v)\n",
    "   \n",
    "    "
   ]
  },
  {
   "cell_type": "code",
   "execution_count": 133,
   "metadata": {},
   "outputs": [
    {
     "ename": "IndexError",
     "evalue": "list index out of range",
     "output_type": "error",
     "traceback": [
      "\u001b[1;31m---------------------------------------------------------------------------\u001b[0m",
      "\u001b[1;31mIndexError\u001b[0m                                Traceback (most recent call last)",
      "\u001b[1;32m<ipython-input-133-12ca482bac05>\u001b[0m in \u001b[0;36m<module>\u001b[1;34m\u001b[0m\n\u001b[1;32m----> 1\u001b[1;33m \u001b[0mfrac_knapsack\u001b[0m\u001b[1;33m(\u001b[0m\u001b[1;36m50\u001b[0m\u001b[1;33m,\u001b[0m\u001b[1;33m[\u001b[0m\u001b[1;36m10\u001b[0m\u001b[1;33m]\u001b[0m\u001b[1;33m,\u001b[0m\u001b[1;33m[\u001b[0m\u001b[1;36m60\u001b[0m\u001b[1;33m]\u001b[0m\u001b[1;33m,\u001b[0m\u001b[1;36m3\u001b[0m\u001b[1;33m)\u001b[0m\u001b[1;33m\u001b[0m\u001b[1;33m\u001b[0m\u001b[0m\n\u001b[0m",
      "\u001b[1;32m<ipython-input-126-750f3e5a9c12>\u001b[0m in \u001b[0;36mfrac_knapsack\u001b[1;34m(w, weight, value, n)\u001b[0m\n\u001b[0;32m      2\u001b[0m     \u001b[0mratio\u001b[0m\u001b[1;33m=\u001b[0m\u001b[1;33m[\u001b[0m\u001b[1;33m]\u001b[0m\u001b[1;33m\u001b[0m\u001b[1;33m\u001b[0m\u001b[0m\n\u001b[0;32m      3\u001b[0m     \u001b[1;32mfor\u001b[0m \u001b[0mi\u001b[0m \u001b[1;32min\u001b[0m \u001b[0mrange\u001b[0m\u001b[1;33m(\u001b[0m\u001b[0mn\u001b[0m\u001b[1;33m)\u001b[0m\u001b[1;33m:\u001b[0m\u001b[1;33m\u001b[0m\u001b[1;33m\u001b[0m\u001b[0m\n\u001b[1;32m----> 4\u001b[1;33m         \u001b[0mratio\u001b[0m\u001b[1;33m.\u001b[0m\u001b[0mappend\u001b[0m\u001b[1;33m(\u001b[0m\u001b[1;33m(\u001b[0m\u001b[0mvalue\u001b[0m\u001b[1;33m[\u001b[0m\u001b[0mi\u001b[0m\u001b[1;33m]\u001b[0m\u001b[1;33m/\u001b[0m\u001b[0mweight\u001b[0m\u001b[1;33m[\u001b[0m\u001b[0mi\u001b[0m\u001b[1;33m]\u001b[0m\u001b[1;33m,\u001b[0m\u001b[0mweight\u001b[0m\u001b[1;33m[\u001b[0m\u001b[0mi\u001b[0m\u001b[1;33m]\u001b[0m\u001b[1;33m,\u001b[0m\u001b[0mvalue\u001b[0m\u001b[1;33m[\u001b[0m\u001b[0mi\u001b[0m\u001b[1;33m]\u001b[0m\u001b[1;33m)\u001b[0m\u001b[1;33m)\u001b[0m\u001b[1;33m\u001b[0m\u001b[1;33m\u001b[0m\u001b[0m\n\u001b[0m\u001b[0;32m      5\u001b[0m     \u001b[0mratio\u001b[0m\u001b[1;33m.\u001b[0m\u001b[0msort\u001b[0m\u001b[1;33m(\u001b[0m\u001b[0mreverse\u001b[0m\u001b[1;33m=\u001b[0m\u001b[1;32mTrue\u001b[0m\u001b[1;33m)\u001b[0m\u001b[1;33m\u001b[0m\u001b[1;33m\u001b[0m\u001b[0m\n\u001b[0;32m      6\u001b[0m     \u001b[0mi\u001b[0m\u001b[1;33m=\u001b[0m\u001b[1;36m0\u001b[0m\u001b[1;33m\u001b[0m\u001b[1;33m\u001b[0m\u001b[0m\n",
      "\u001b[1;31mIndexError\u001b[0m: list index out of range"
     ]
    }
   ],
   "source": [
    "frac_knapsack(50,[10],[60],3)"
   ]
  },
  {
   "cell_type": "code",
   "execution_count": 106,
   "metadata": {},
   "outputs": [],
   "source": [
    "li=[(1,2,2),[34,4]]"
   ]
  },
  {
   "cell_type": "code",
   "execution_count": 107,
   "metadata": {},
   "outputs": [
    {
     "name": "stdout",
     "output_type": "stream",
     "text": [
      "4\n"
     ]
    }
   ],
   "source": [
    "print(li[1][1])"
   ]
  },
  {
   "cell_type": "code",
   "execution_count": 112,
   "metadata": {},
   "outputs": [
    {
     "ename": "SyntaxError",
     "evalue": "invalid syntax (<ipython-input-112-d7df92583c2c>, line 1)",
     "output_type": "error",
     "traceback": [
      "\u001b[1;36m  File \u001b[1;32m\"<ipython-input-112-d7df92583c2c>\"\u001b[1;36m, line \u001b[1;32m1\u001b[0m\n\u001b[1;33m    print(\"a\") if(-1)\u001b[0m\n\u001b[1;37m                     ^\u001b[0m\n\u001b[1;31mSyntaxError\u001b[0m\u001b[1;31m:\u001b[0m invalid syntax\n"
     ]
    }
   ],
   "source": []
  },
  {
   "cell_type": "code",
   "execution_count": 155,
   "metadata": {},
   "outputs": [],
   "source": [
    "def largestsum(n,summ):\n",
    "    val=[0]*n\n",
    "    num =[i for i in range(9,1,-1)]\n",
    "    s=summ\n",
    "    i=0\n",
    "    while(s>0 and i!=n):\n",
    "        for j in num:\n",
    "            if j <=s:\n",
    "                val[i] = j\n",
    "                break\n",
    "        s-=val[i]\n",
    "        i+=1\n",
    "        print(val)\n",
    "    if summ == sum(val):\n",
    "        return \"\".join(list(map(str,val)))\n",
    "    else:\n",
    "        return -1\n",
    "        "
   ]
  },
  {
   "cell_type": "code",
   "execution_count": 156,
   "metadata": {},
   "outputs": [
    {
     "name": "stdout",
     "output_type": "stream",
     "text": [
      "[9, 0, 0]\n",
      "[9, 9, 0]\n",
      "[9, 9, 9]\n"
     ]
    },
    {
     "data": {
      "text/plain": [
       "-1"
      ]
     },
     "execution_count": 156,
     "metadata": {},
     "output_type": "execute_result"
    }
   ],
   "source": [
    "largestsum(3,29)"
   ]
  },
  {
   "cell_type": "code",
   "execution_count": 143,
   "metadata": {},
   "outputs": [
    {
     "name": "stdout",
     "output_type": "stream",
     "text": [
      "12\n"
     ]
    }
   ],
   "source": [
    "print(\"\".join([\"1\",\"2\"]))"
   ]
  },
  {
   "cell_type": "code",
   "execution_count": 70,
   "metadata": {},
   "outputs": [
    {
     "name": "stdout",
     "output_type": "stream",
     "text": [
      "1\n",
      "5\n",
      "1 2 100 2 1 19 3 2 27 4 1 25 5 1 15\n"
     ]
    }
   ],
   "source": [
    "#User function Template for python3\n",
    "\n",
    "\n",
    "\n",
    "    # code here\n",
    "    \n",
    "\n",
    "\n",
    "\n",
    "#{ \n",
    "#  Driver Code Starts\n",
    "#Initial Template for Python 3\n",
    "import atexit\n",
    "import io\n",
    "import sys\n",
    "\n",
    "#Contributed by : Nagendra Jha\n",
    "class Job:\n",
    "    '''\n",
    "    Job class which stores profit and deadline.\n",
    "    '''\n",
    "    def __init__(self,profit=0,deadline=0):\n",
    "        self.profit = profit\n",
    "        self.deadline = deadline\n",
    "        self.id = 0\n",
    "\n",
    "if __name__ == '__main__':\n",
    "    test_cases = int(input())\n",
    "    for cases in range(test_cases) :\n",
    "        n = int(input())\n",
    "        info = list(map(int,input().strip().split()))\n",
    "        Jobs = [Job() for i in range(n)]\n",
    "        for i in range(n):\n",
    "            Jobs[i].id = info[3*i]\n",
    "            Jobs[i].deadline = info[3 * i + 1]\n",
    "            Jobs[i].profit=info[3*i+2]\n",
    "        #res = JobScheduling(Jobs,n)\n",
    "        #print (res[0], end=\" \")\n",
    "        #print (res[1])\n",
    "        \n",
    "# } Driver Code Ends"
   ]
  },
  {
   "cell_type": "code",
   "execution_count": 73,
   "metadata": {},
   "outputs": [
    {
     "name": "stdout",
     "output_type": "stream",
     "text": [
      "3 1 "
     ]
    }
   ],
   "source": [
    "Jobs.sort(key = lambda x:x.profit,reverse = True)\n",
    "m= max(x.deadline for x in Jobs)\n",
    "sc = [Job()]*m\n",
    "\n",
    "\n",
    "for i in Jobs:\n",
    "    for j in range(i.deadline,0,-1):\n",
    "        if sc[j-1].profit < i.profit:\n",
    "            sc[j-1] = i\n",
    "            break\n",
    "#prof = sum(x.profit for x in sc)\n",
    "res=[0,0]\n",
    "for i in sc:\n",
    "    if i.id!=0:\n",
    "        res[0]+=i.profit\n",
    "        res[1]+=1\n",
    "        print(i.id,end=\" \")\n",
    "        \n",
    "\n",
    "    \n",
    "    \n",
    "    \n",
    "    "
   ]
  },
  {
   "cell_type": "code",
   "execution_count": 72,
   "metadata": {},
   "outputs": [
    {
     "data": {
      "text/plain": [
       "[127, 2]"
      ]
     },
     "execution_count": 72,
     "metadata": {},
     "output_type": "execute_result"
    }
   ],
   "source": [
    "res\n"
   ]
  },
  {
   "cell_type": "code",
   "execution_count": 34,
   "metadata": {},
   "outputs": [
    {
     "name": "stdout",
     "output_type": "stream",
     "text": [
      "1\n",
      "01110100011111000101101011101000111\n"
     ]
    }
   ],
   "source": [
    "import heapq\n",
    "minheap = []\n",
    "heapq.heapify(minheap)\n",
    "cnt=0\n",
    "codes = {}\n",
    "freq = {}\n",
    "\n",
    "class MinHeapNode:\n",
    "    def __init__(self, data, freq):\n",
    "        self.data = data\n",
    "        self.freq = freq\n",
    "        self.left = None\n",
    "        self.right = None\n",
    "\n",
    "def printCodes(root, strr):\n",
    "    if root==None:\n",
    "        return\n",
    "    if root.data is not '$':\n",
    "        print(str(root.data)+\": \"+strr)\n",
    "    printCodes(root.left, strr+\"0\")\n",
    "    printCodes(root.right, strr+\"1\")\n",
    "\n",
    "def storeCodes(root, strr):\n",
    "    if root==None:\n",
    "        return\n",
    "    if root.data is not '$':\n",
    "        codes[root.data]=strr\n",
    "    storeCodes(root.left, strr+\"0\")\n",
    "    storeCodes(root.right, strr+\"1\")\n",
    "\n",
    "def huffmanCodes(s):\n",
    "    global cnt\n",
    "    for v in freq:\n",
    "        heapq.heappush(minheap, (freq[v], freq[v]+cnt, MinHeapNode(v, freq[v])))\n",
    "        cnt+=1\n",
    "    while(len(minheap) is not 1):\n",
    "        left = minheap[0][2]\n",
    "        heapq.heappop(minheap)\n",
    "        right = minheap[0][2]\n",
    "        heapq.heappop(minheap)\n",
    "        top = MinHeapNode('$', left.freq+right.freq)\n",
    "        top.left = left\n",
    "        top.right = right\n",
    "        heapq.heappush(minheap, (top.freq, top.freq+cnt, top))\n",
    "        cnt+=1\n",
    "    storeCodes(minheap[0][2], \"\")\n",
    "\n",
    "\n",
    "def calcFreq(strr, n):\n",
    "    for i in range(n):\n",
    "        if strr[i] not in freq:\n",
    "            freq[strr[i]]=1\n",
    "        else:\n",
    "            freq[strr[i]]+=1\n",
    "\n",
    "\n",
    "if __name__ == \"__main__\":\n",
    "    t = int(input())\n",
    "    while(t>0):\n",
    "        strr = input()\n",
    "        encodedString = \"\"\n",
    "        decodedString = \"\"\n",
    "        calcFreq(strr, len(strr))\n",
    "        #print(freq)\n",
    "        huffmanCodes(len(strr))\n",
    "        #print(codes)\n",
    "        for i in strr:\n",
    "            encodedString += codes[i]\n",
    "\n",
    "        #decodedString = decodeHuffmanData(minheap[0][2], encodedString)\n",
    "        #print(decodedString)\n",
    "        t=t-1\n",
    "\n",
    "\n",
    "# } Driver Code Ends"
   ]
  },
  {
   "cell_type": "code",
   "execution_count": 40,
   "metadata": {},
   "outputs": [
    {
     "name": "stdout",
     "output_type": "stream",
     "text": [
      "0 $ 1 $ 0 $ 0 $ 0 $ 1 $ 1 $ 0 $ 0 $ 0 $ 1 $ 1 $ 1 $ 1 $ 1 $ 0 $ 1 $ 1 "
     ]
    }
   ],
   "source": [
    "decodedString = \"\"\n",
    "temp  = root\n",
    "for i in encodedString:\n",
    "    if temp.data =='$':\n",
    "        if i == '1':\n",
    "            temp = temp.right\n",
    "        else:\n",
    "            temp = temp.left\n",
    "    else:\n",
    "        decodedString += temp.data\n",
    "        temp = root\n",
    "    print(temp.data,end = \" \")\n",
    "    \n",
    "        "
   ]
  },
  {
   "cell_type": "code",
   "execution_count": 41,
   "metadata": {},
   "outputs": [],
   "source": [
    "root = minheap[0][2]"
   ]
  },
  {
   "cell_type": "code",
   "execution_count": 21,
   "metadata": {},
   "outputs": [],
   "source": [
    "while(temp.left):\n",
    "    temp = temp.left"
   ]
  },
  {
   "cell_type": "code",
   "execution_count": 42,
   "metadata": {},
   "outputs": [
    {
     "data": {
      "text/plain": [
       "{'0': '0', '1': '1'}"
      ]
     },
     "execution_count": 42,
     "metadata": {},
     "output_type": "execute_result"
    }
   ],
   "source": [
    "codes"
   ]
  },
  {
   "cell_type": "code",
   "execution_count": 50,
   "metadata": {},
   "outputs": [
    {
     "name": "stdout",
     "output_type": "stream",
     "text": [
      "Graph has a cycle\n"
     ]
    }
   ],
   "source": [
    "# Python program to detect cycle \n",
    "# in a graph \n",
    "\n",
    "from collections import defaultdict \n",
    "\n",
    "class Graph(): \n",
    "\tdef __init__(self,vertices): \n",
    "\t\tself.graph = defaultdict(list) \n",
    "\t\tself.V = vertices \n",
    "\n",
    "\tdef addEdge(self,u,v): \n",
    "\t\tself.graph[u].append(v) \n",
    "\n",
    "\tdef isCyclicUtil(self, v, visited, recStack): \n",
    "\n",
    "\t\t# Mark current node as visited and \n",
    "\t\t# adds to recursion stack \n",
    "\t\tvisited[v] = True\n",
    "\t\trecStack[v] = True\n",
    "\n",
    "\t\t# Recur for all neighbours \n",
    "\t\t# if any neighbour is visited and in \n",
    "\t\t# recStack then graph is cyclic \n",
    "\t\tfor neighbour in self.graph[v]: \n",
    "\t\t\tif visited[neighbour] == False: \n",
    "\t\t\t\tif self.isCyclicUtil(neighbour, visited, recStack) == True: \n",
    "\t\t\t\t\treturn True\n",
    "\t\t\telif recStack[neighbour] == True: \n",
    "\t\t\t\treturn True\n",
    "\n",
    "\t\t# The node needs to be poped from \n",
    "\t\t# recursion stack before function ends \n",
    "\t\trecStack[v] = False\n",
    "\t\treturn False\n",
    "\n",
    "\t# Returns true if graph is cyclic else false \n",
    "\tdef isCyclic(self): \n",
    "\t\tvisited = [False] * self.V \n",
    "\t\trecStack = [False] * self.V \n",
    "\t\tfor node in range(self.V): \n",
    "\t\t\tif visited[node] == False: \n",
    "\t\t\t\tif self.isCyclicUtil(node,visited,recStack) == True: \n",
    "\t\t\t\t\treturn True\n",
    "\t\treturn False\n",
    "\tdef r(self):\n",
    "\t\tfor node in range(self.V):\n",
    "\t\t\tprint(node)\n",
    "        \n",
    "    \n",
    "        \n",
    "        \n",
    "\n",
    "g = Graph(4) \n",
    "g.addEdge(0, 1) \n",
    "g.addEdge(0, 2) \n",
    "g.addEdge(1, 2) \n",
    "g.addEdge(2, 0) \n",
    "g.addEdge(2, 3) \n",
    "g.addEdge(3, 3) \n",
    "if g.isCyclic() == 1: \n",
    "\tprint (\"Graph has a cycle\")\n",
    "else: \n",
    "\tprint( \"Graph has no cycle\")\n",
    "\n",
    "# Thanks to Divyanshu Mehta for contributing this code \n"
   ]
  },
  {
   "cell_type": "markdown",
   "metadata": {},
   "source": [
    "# to detect a cycle"
   ]
  },
  {
   "cell_type": "code",
   "execution_count": 52,
   "metadata": {},
   "outputs": [
    {
     "name": "stdout",
     "output_type": "stream",
     "text": [
      "0\n",
      "1\n",
      "2\n",
      "3\n"
     ]
    }
   ],
   "source": [
    "g.r()"
   ]
  },
  {
   "cell_type": "code",
   "execution_count": null,
   "metadata": {},
   "outputs": [],
   "source": []
  },
  {
   "cell_type": "code",
   "execution_count": null,
   "metadata": {},
   "outputs": [],
   "source": []
  }
 ],
 "metadata": {
  "kernelspec": {
   "display_name": "Python 3",
   "language": "python",
   "name": "python3"
  },
  "language_info": {
   "codemirror_mode": {
    "name": "ipython",
    "version": 3
   },
   "file_extension": ".py",
   "mimetype": "text/x-python",
   "name": "python",
   "nbconvert_exporter": "python",
   "pygments_lexer": "ipython3",
   "version": "3.7.3"
  }
 },
 "nbformat": 4,
 "nbformat_minor": 2
}
