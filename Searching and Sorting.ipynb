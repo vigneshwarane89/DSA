{
 "cells": [
  {
   "cell_type": "markdown",
   "metadata": {},
   "source": [
    "# Sequential Search Unordered"
   ]
  },
  {
   "cell_type": "code",
   "execution_count": 3,
   "metadata": {},
   "outputs": [],
   "source": [
    "def seq_search(arr,elem):\n",
    "    pos = 0\n",
    "    found = False\n",
    "    while pos < len(arr) and not found:\n",
    "        \n",
    "        if arr[pos] == elem:\n",
    "            found = True\n",
    "        else:\n",
    "            pos+=1\n",
    "    return found\n",
    "    "
   ]
  },
  {
   "cell_type": "code",
   "execution_count": 5,
   "metadata": {},
   "outputs": [
    {
     "data": {
      "text/plain": [
       "False"
      ]
     },
     "execution_count": 5,
     "metadata": {},
     "output_type": "execute_result"
    }
   ],
   "source": [
    "arr=[1,10,2,3,91,4]\n",
    "seq_search(arr,12)"
   ]
  },
  {
   "cell_type": "markdown",
   "metadata": {},
   "source": [
    "# Sequential Search Ordered"
   ]
  },
  {
   "cell_type": "code",
   "execution_count": 6,
   "metadata": {},
   "outputs": [],
   "source": [
    "def orderedSeqSearch(arr,elem):\n",
    "    pos = 0\n",
    "    \n",
    "    stopped = found = False\n",
    "    \n",
    "    while pos<len(arr) and not found and not stopped:\n",
    "        \n",
    "        if arr[pos] == elem:\n",
    "            found = True\n",
    "        else:\n",
    "            if arr[pos]>elem:\n",
    "                stopped = True\n",
    "            else:\n",
    "                pos+=1\n",
    "    return found\n",
    "    "
   ]
  },
  {
   "cell_type": "code",
   "execution_count": 11,
   "metadata": {},
   "outputs": [
    {
     "data": {
      "text/plain": [
       "True"
      ]
     },
     "execution_count": 11,
     "metadata": {},
     "output_type": "execute_result"
    }
   ],
   "source": [
    "arr=[1,2,3,5,6,7]\n",
    "orderedSeqSearch(arr,1)"
   ]
  },
  {
   "cell_type": "markdown",
   "metadata": {},
   "source": [
    "# Binary search"
   ]
  },
  {
   "cell_type": "code",
   "execution_count": 31,
   "metadata": {},
   "outputs": [],
   "source": [
    "def binSearch(arr,ele):\n",
    "    \n",
    "    first=0\n",
    "    last=len(arr)-1\n",
    "    found = False\n",
    "    \n",
    "    while first<=last and not found:\n",
    "        mid = (first+last)//2\n",
    "        print(mid)\n",
    "        \n",
    "        if arr[mid] == ele:\n",
    "            found = True\n",
    "        else:\n",
    "            if ele < arr[mid]:\n",
    "                last = mid-1\n",
    "            else:\n",
    "                first = mid+1\n",
    "    return found\n",
    "            "
   ]
  },
  {
   "cell_type": "code",
   "execution_count": 32,
   "metadata": {},
   "outputs": [
    {
     "name": "stdout",
     "output_type": "stream",
     "text": [
      "2\n",
      "4\n",
      "5\n"
     ]
    },
    {
     "data": {
      "text/plain": [
       "False"
      ]
     },
     "execution_count": 32,
     "metadata": {},
     "output_type": "execute_result"
    }
   ],
   "source": [
    "arr=[1,2,3,5,6,7]\n",
    "binSearch(arr,8)"
   ]
  },
  {
   "cell_type": "code",
   "execution_count": 39,
   "metadata": {},
   "outputs": [],
   "source": [
    "def rec_binSearch(arr,ele):\n",
    "    if len(arr) == 0:\n",
    "        return False\n",
    "    else:\n",
    "        mid = len(arr)//2\n",
    "        if arr[mid] == ele:\n",
    "            return True\n",
    "        else:\n",
    "            if ele < arr[mid]:\n",
    "                return rec_binSearch(arr[:mid],ele)\n",
    "            else:\n",
    "                return rec_binSearch(arr[mid+1:],ele)\n",
    "    \n",
    "    "
   ]
  },
  {
   "cell_type": "code",
   "execution_count": 40,
   "metadata": {},
   "outputs": [
    {
     "data": {
      "text/plain": [
       "True"
      ]
     },
     "execution_count": 40,
     "metadata": {},
     "output_type": "execute_result"
    }
   ],
   "source": [
    "rec_binSearch(arr,1)"
   ]
  },
  {
   "cell_type": "markdown",
   "metadata": {},
   "source": [
    "# Hash Function"
   ]
  },
  {
   "cell_type": "code",
   "execution_count": null,
   "metadata": {},
   "outputs": [],
   "source": [
    "class hashtable:\n",
    "    def __init__(self,size):\n",
    "        self.size=size\n",
    "        self.slots=[None]*size\n",
    "        self.data=[None]*size\n",
    "    \n",
    "    def put(self,key,data):\n",
    "        \n",
    "        hashvalue = self.hashFunction(key,self.size)\n",
    "        \n",
    "        if self.slots[hashvalue] ==None:\n",
    "            self.slots[hashvalue] = key\n",
    "            self.data[hashvalue] = data\n",
    "        else:\n",
    "            if self.slots[hashvalue] == key:\n",
    "                self.data[hashvalue] = data\n",
    "            \n",
    "            else:\n",
    "                nextslot = self.rehash(hashvalue,self.size)\n",
    "                \n",
    "                while self.slots[nextslot]!= None and self.slots[nextslot]!= key:\n",
    "                    nextslot = self.rehash(nextslot,self.size)\n",
    "                \n",
    "                if self.slots[nextslot] == None:\n",
    "                    self.slots[nextslot] = key\n",
    "                    self.data[nextslot] = data\n",
    "                else:\n",
    "                    self.data[nextslot] = data\n",
    "    \n",
    "    def hashFunction(self,key,size):\n",
    "        return key%size\n",
    "\n",
    "    def rehash(self,old,size):\n",
    "        return (old+1)%size\n",
    "    \n",
    "    def get(self,key):\n",
    "        start = self.hashFunction(key,self.size)\n",
    "        data = None\n",
    "        found = stop = False\n",
    "        position = start\n",
    "        \n",
    "        while self.slots[position] !=None and not found and not stop:\n",
    "            if self.slots[position] == key:\n",
    "                found = True\n",
    "                data = self.data[position]\n",
    "            else:\n",
    "                position = self.rehash(position,self.size)\n",
    "                \n",
    "                if position == start:\n",
    "                    stop = True\n",
    "        return data\n",
    "    \n",
    "    def __getitem__(self,key):\n",
    "        return self.get(key)\n",
    "    \n",
    "    def __setitem__()\n",
    "            "
   ]
  },
  {
   "cell_type": "markdown",
   "metadata": {},
   "source": [
    "# Bubble Sort"
   ]
  },
  {
   "cell_type": "code",
   "execution_count": 1,
   "metadata": {},
   "outputs": [],
   "source": [
    "def bubble_sort(arr):\n",
    "    n=len(arr)-1\n",
    "    while(n):\n",
    "        for k in range(n):\n",
    "            if arr[k]>arr[k+1]:\n",
    "                arr[k],arr[k+1] = arr[k+1],arr[k]\n",
    "        n-=1\n",
    "    return arr"
   ]
  },
  {
   "cell_type": "code",
   "execution_count": 2,
   "metadata": {},
   "outputs": [
    {
     "data": {
      "text/plain": [
       "[0, 2, 4, 6, 7, 7, 9]"
      ]
     },
     "execution_count": 2,
     "metadata": {},
     "output_type": "execute_result"
    }
   ],
   "source": [
    "bubble_sort([9,7,0,6,2,7,4])"
   ]
  },
  {
   "cell_type": "markdown",
   "metadata": {},
   "source": [
    "# Selection Sort"
   ]
  },
  {
   "cell_type": "code",
   "execution_count": 1,
   "metadata": {},
   "outputs": [],
   "source": [
    "def selection_sort(arr):\n",
    "    \n",
    "    for fillSlot in range(len(arr)-1,0,-1):\n",
    "        positionOfMax = 0\n",
    "        \n",
    "        for location in range(1,fillSlot):\n",
    "            \n",
    "            if arr[location] > arr[positionOfMax]:\n",
    "                positionOfMax = location\n",
    "        arr[fillSlot],arr[positionOfMax] = arr[positionOfMax],arr[fillSlot]\n",
    "    return arr"
   ]
  },
  {
   "cell_type": "code",
   "execution_count": 2,
   "metadata": {},
   "outputs": [
    {
     "data": {
      "text/plain": [
       "[0, 1, 4, 2, 6, 8, 9, 99]"
      ]
     },
     "execution_count": 2,
     "metadata": {},
     "output_type": "execute_result"
    }
   ],
   "source": [
    "selection_sort([9,0,1,99,4,6,2,8])"
   ]
  },
  {
   "cell_type": "code",
   "execution_count": 53,
   "metadata": {},
   "outputs": [],
   "source": [
    "def double_selection_sort(arr):\n",
    "    \n",
    "    n=0\n",
    "    fillSlot = len(arr)-1\n",
    "    #for fillSlot in range(len(arr)-1,(len(arr)//2) +1,-1):\n",
    "    while n<fillSlot:\n",
    "        positionOfMax = n\n",
    "        positionOfMin = n\n",
    "        \n",
    "        for location in range(n,fillSlot):\n",
    "        \n",
    "            \n",
    "            if arr[location] > arr[positionOfMax]:\n",
    "                positionOfMax = location\n",
    "            if arr[location] < arr[positionOfMin]:\n",
    "                positionOfMin = location\n",
    "        \n",
    "        print(\"n: \" + str(n))\n",
    "        print(\"fillslot:\" + str(fillSlot))\n",
    "        print(\"Position of max:{} \\n Position of Min:{}\".format(positionOfMax,positionOfMin))\n",
    "   \n",
    "        arr[fillSlot],arr[positionOfMax] = arr[positionOfMax],arr[fillSlot]\n",
    "        arr[n],arr[positionOfMin] = arr[positionOfMin],arr[n]\n",
    "        print(arr)\n",
    "        n+=1\n",
    "        fillSlot-=1\n",
    "    return arr"
   ]
  },
  {
   "cell_type": "code",
   "execution_count": 55,
   "metadata": {},
   "outputs": [
    {
     "name": "stdout",
     "output_type": "stream",
     "text": [
      "n: 0\n",
      "fillslot:13\n",
      "Position of max:12 \n",
      " Position of Min:1\n",
      "[0, 9, 1, 99, 4, 6, 2, 83, 42, 63, 75, 6, 574754, 412]\n",
      "n: 1\n",
      "fillslot:12\n",
      "Position of max:3 \n",
      " Position of Min:2\n",
      "[0, 1, 9, 574754, 4, 6, 2, 83, 42, 63, 75, 6, 99, 412]\n",
      "n: 2\n",
      "fillslot:11\n",
      "Position of max:3 \n",
      " Position of Min:6\n",
      "[0, 1, 2, 6, 4, 6, 9, 83, 42, 63, 75, 574754, 99, 412]\n",
      "n: 3\n",
      "fillslot:10\n",
      "Position of max:7 \n",
      " Position of Min:4\n",
      "[0, 1, 2, 4, 6, 6, 9, 75, 42, 63, 83, 574754, 99, 412]\n",
      "n: 4\n",
      "fillslot:9\n",
      "Position of max:7 \n",
      " Position of Min:4\n",
      "[0, 1, 2, 4, 6, 6, 9, 63, 42, 75, 83, 574754, 99, 412]\n",
      "n: 5\n",
      "fillslot:8\n",
      "Position of max:7 \n",
      " Position of Min:5\n",
      "[0, 1, 2, 4, 6, 6, 9, 42, 63, 75, 83, 574754, 99, 412]\n",
      "n: 6\n",
      "fillslot:7\n",
      "Position of max:6 \n",
      " Position of Min:6\n",
      "[0, 1, 2, 4, 6, 6, 42, 9, 63, 75, 83, 574754, 99, 412]\n"
     ]
    },
    {
     "data": {
      "text/plain": [
       "[0, 1, 2, 4, 6, 6, 42, 9, 63, 75, 83, 574754, 99, 412]"
      ]
     },
     "execution_count": 55,
     "metadata": {},
     "output_type": "execute_result"
    }
   ],
   "source": [
    "double_selection_sort([9,0,1,99,4,6,2,83,42,63,75,6,412,574754])"
   ]
  },
  {
   "cell_type": "markdown",
   "metadata": {},
   "source": [
    "# Insertion Sort"
   ]
  },
  {
   "cell_type": "code",
   "execution_count": 3,
   "metadata": {},
   "outputs": [],
   "source": [
    "def insertion_sort1(arr):\n",
    "    \n",
    "    for i in range(1,len(arr)):\n",
    "        for j in range(i,0,-1):\n",
    "            if arr[j]<arr[j-1]:\n",
    "                arr[j],arr[j-1] = arr[j-1],arr[j]\n",
    "    return arr\n",
    "        \n",
    "            "
   ]
  },
  {
   "cell_type": "code",
   "execution_count": 4,
   "metadata": {},
   "outputs": [
    {
     "data": {
      "text/plain": [
       "[2, 3, 4, 5, 11]"
      ]
     },
     "execution_count": 4,
     "metadata": {},
     "output_type": "execute_result"
    }
   ],
   "source": [
    "insertion_sort([5,4,11,3,2])"
   ]
  },
  {
   "cell_type": "code",
   "execution_count": 5,
   "metadata": {},
   "outputs": [],
   "source": [
    "def insertion_sort(arr):\n",
    "    \n",
    "    for i in range(1,len(arr)):\n",
    "        \n",
    "        currentvalue= arr[i]\n",
    "        position = i\n",
    "        \n",
    "        while position>0 and arr[position-1]>currentvalue:\n",
    "            arr[position]=arr[position-1]\n",
    "            \n",
    "            position-=1\n",
    "        arr[position] = currentvalue\n",
    "    return arr"
   ]
  },
  {
   "cell_type": "code",
   "execution_count": 7,
   "metadata": {},
   "outputs": [
    {
     "data": {
      "text/plain": [
       "[2, 4, 5, 6, 7]"
      ]
     },
     "execution_count": 7,
     "metadata": {},
     "output_type": "execute_result"
    }
   ],
   "source": [
    "insertion_sort([5,4,6,2,7])"
   ]
  },
  {
   "cell_type": "markdown",
   "metadata": {},
   "source": [
    "# Shell Sort"
   ]
  },
  {
   "cell_type": "code",
   "execution_count": 34,
   "metadata": {},
   "outputs": [],
   "source": [
    "def shell_Sort(arr):\n",
    "    sublistCount =len(arr)//2\n",
    "    \n",
    "    while sublistCount:\n",
    "        for start in range(sublistCount):\n",
    "            gap_insertion_sort(arr,start,sublistCount)\n",
    "        \n",
    "        sublistCount = sublistCount//2\n",
    "\n",
    "            \n",
    "def gap_insertion_sort(arr,start,gap):\n",
    "    for i in range(start+gap,len(arr),gap):\n",
    "        currentValue = arr[i]\n",
    "        position = i\n",
    "        print(\"start: {}  array: {} \\n\".format(start,arr))\n",
    "        print(\"position: {} gap:{} position-gap:{} currentvalue:{}\\n\".format(position,gap,position-gap,currentValue))\n",
    "        \n",
    "        while position >= gap and arr[position-gap] > currentValue:\n",
    "            arr[position] = arr[position -gap]\n",
    "            position -=gap\n",
    "        arr[position] = currentValue\n",
    "        "
   ]
  },
  {
   "cell_type": "code",
   "execution_count": 35,
   "metadata": {},
   "outputs": [
    {
     "name": "stdout",
     "output_type": "stream",
     "text": [
      "start: 0  array: [62, 83, 4, 2] \n",
      "\n",
      "position: 2 gap:2 position-gap:0 currentvalue:4\n",
      "\n",
      "start: 1  array: [4, 83, 62, 2] \n",
      "\n",
      "position: 3 gap:2 position-gap:1 currentvalue:2\n",
      "\n",
      "start: 0  array: [4, 2, 62, 83] \n",
      "\n",
      "position: 1 gap:1 position-gap:0 currentvalue:2\n",
      "\n",
      "start: 0  array: [2, 4, 62, 83] \n",
      "\n",
      "position: 2 gap:1 position-gap:1 currentvalue:62\n",
      "\n",
      "start: 0  array: [2, 4, 62, 83] \n",
      "\n",
      "position: 3 gap:1 position-gap:2 currentvalue:83\n",
      "\n"
     ]
    }
   ],
   "source": [
    "shell_Sort([62,83,4,2])"
   ]
  },
  {
   "cell_type": "markdown",
   "metadata": {},
   "source": [
    "# Merge Sort"
   ]
  },
  {
   "cell_type": "code",
   "execution_count": 53,
   "metadata": {},
   "outputs": [],
   "source": [
    "def merge_sort(arr):\n",
    "    \n",
    "    if len(arr)>1:\n",
    "        \n",
    "        middle=len(arr)//2\n",
    "        lefthalf = arr[:middle]\n",
    "        righthalf = arr[middle:]\n",
    "        \n",
    "        merge_sort(lefthalf)\n",
    "        merge_sort(righthalf)\n",
    "        \n",
    "        i =j = k = 0\n",
    "        \n",
    "        \n",
    "        while i < len(lefthalf) and j< len(righthalf):\n",
    "            if lefthalf[i] < righthalf[j]:\n",
    "                arr[k] = lefthalf[i]\n",
    "                i+=1\n",
    "            else:\n",
    "                arr[k] = righthalf[j]\n",
    "                j+=1\n",
    "            k+=1\n",
    "        \n",
    "        while i<len(lefthalf):\n",
    "            arr[k] = lefthalf[i]\n",
    "            i+=1\n",
    "            k+=1\n",
    "        while j<len(righthalf):\n",
    "            \n",
    "            arr[k] = righthalf[j]\n",
    "            j+=1\n",
    "            k+=1\n",
    "    print(arr)\n",
    "    return arr\n",
    "            \n",
    "        "
   ]
  },
  {
   "cell_type": "code",
   "execution_count": 54,
   "metadata": {},
   "outputs": [
    {
     "name": "stdout",
     "output_type": "stream",
     "text": [
      "[53]\n",
      "[7]\n",
      "[7, 53]\n",
      "[2]\n",
      "[78]\n",
      "[2, 78]\n",
      "[2, 7, 53, 78]\n",
      "[3]\n",
      "[5]\n",
      "[3, 5]\n",
      "[81]\n",
      "[0]\n",
      "[0, 81]\n",
      "[0, 3, 5, 81]\n",
      "[0, 2, 3, 5, 7, 53, 78, 81]\n"
     ]
    },
    {
     "data": {
      "text/plain": [
       "[0, 2, 3, 5, 7, 53, 78, 81]"
      ]
     },
     "execution_count": 54,
     "metadata": {},
     "output_type": "execute_result"
    }
   ],
   "source": [
    "merge_sort([53,7,2,78,3,5,81,0])"
   ]
  },
  {
   "cell_type": "markdown",
   "metadata": {},
   "source": [
    "# Quick Sort"
   ]
  },
  {
   "cell_type": "code",
   "execution_count": 11,
   "metadata": {},
   "outputs": [],
   "source": [
    "def quick_sort(arr):\n",
    "    \n",
    "    quick_sort_help(arr,0,len(arr)-1)\n",
    "    return arr\n",
    "\n",
    "def quick_sort_help(arr,first,last):\n",
    "    \n",
    "    if first<last:\n",
    "        splitpoint = partition(arr,first,last)\n",
    "        \n",
    "        quick_sort_help(arr,first,splitpoint-1)\n",
    "        quick_sort_help(arr,splitpoint+1,last)\n",
    "\n",
    "def partition(arr,first,last):\n",
    "    \n",
    "    pivot = arr[first]\n",
    "    leftmark = first+1\n",
    "    rightmark = last\n",
    "    \n",
    "    done = False\n",
    "    \n",
    "    while not done:\n",
    "        \n",
    "        while leftmark<=rightmark and arr[leftmark]<=pivot:\n",
    "            leftmark+=1\n",
    "        \n",
    "        while leftmark<=rightmark and arr[rightmark]>=pivot:\n",
    "            rightmark-=1\n",
    "        \n",
    "        if leftmark > rightmark:\n",
    "            done = True\n",
    "        else:\n",
    "            arr[leftmark],arr[rightmark] = arr[rightmark],arr[leftmark]\n",
    "    print(pivot,arr)\n",
    "    arr[first],arr[rightmark] = arr[rightmark],arr[first]\n",
    "    return rightmark\n",
    "        \n",
    "     "
   ]
  },
  {
   "cell_type": "code",
   "execution_count": 12,
   "metadata": {},
   "outputs": [
    {
     "name": "stdout",
     "output_type": "stream",
     "text": [
      "53 [53, 7, 2, 0, 3, 5, 81, 78]\n",
      "5 [5, 3, 2, 0, 7, 53, 81, 78]\n",
      "0 [0, 3, 2, 5, 7, 53, 81, 78]\n",
      "3 [0, 3, 2, 5, 7, 53, 81, 78]\n",
      "81 [0, 2, 3, 5, 7, 53, 81, 78]\n"
     ]
    },
    {
     "data": {
      "text/plain": [
       "[0, 2, 3, 5, 7, 53, 78, 81]"
      ]
     },
     "execution_count": 12,
     "metadata": {},
     "output_type": "execute_result"
    }
   ],
   "source": [
    "quick_sort([53,7,2,78,3,5,81,0])"
   ]
  },
  {
   "cell_type": "code",
   "execution_count": null,
   "metadata": {},
   "outputs": [],
   "source": [
    "quick_sort([53,7,2,78,3,5,81,0])"
   ]
  },
  {
   "cell_type": "code",
   "execution_count": 12,
   "metadata": {},
   "outputs": [],
   "source": [
    "def bin_search(arr,elem):\n",
    "    first = 0\n",
    "    last = len(arr)-1\n",
    "    done = False\n",
    "    while not done and first<= last:\n",
    "        mid = (first+last)//2\n",
    "        \n",
    "        if arr[mid] == elem:\n",
    "            print(\"found \",arr[mid])\n",
    "            done = True\n",
    "        else:\n",
    "            if arr[mid]> elem:\n",
    "                last = mid-1\n",
    "            else:\n",
    "                first = mid+1\n",
    "    return \n",
    "    "
   ]
  },
  {
   "cell_type": "code",
   "execution_count": 13,
   "metadata": {},
   "outputs": [],
   "source": [
    "bin_search([1,2,3,4,5],6)"
   ]
  },
  {
   "cell_type": "code",
   "execution_count": 16,
   "metadata": {},
   "outputs": [],
   "source": [
    "def bubblee_sort(arr):\n",
    "    for i in range(len(arr)-1,0,-1):\n",
    "        print(arr)\n",
    "        for j in range(i-1):\n",
    "            if arr[j] > arr[j+1]:\n",
    "                arr[j],arr[j+1] = arr[j+1],arr[j]\n",
    "    return arr\n",
    "            "
   ]
  },
  {
   "cell_type": "code",
   "execution_count": 17,
   "metadata": {},
   "outputs": [
    {
     "name": "stdout",
     "output_type": "stream",
     "text": [
      "[4, 5, 2, 5]\n",
      "[4, 2, 5, 5]\n",
      "[2, 4, 5, 5]\n"
     ]
    },
    {
     "data": {
      "text/plain": [
       "[2, 4, 5, 5]"
      ]
     },
     "execution_count": 17,
     "metadata": {},
     "output_type": "execute_result"
    }
   ],
   "source": [
    "bubblee_sort([4,5,2,5])"
   ]
  },
  {
   "cell_type": "code",
   "execution_count": null,
   "metadata": {},
   "outputs": [],
   "source": [
    "def sel_sort(arr):\n",
    "    min = arr[0]\n",
    "    for i in range"
   ]
  }
 ],
 "metadata": {
  "kernelspec": {
   "display_name": "Python 3",
   "language": "python",
   "name": "python3"
  },
  "language_info": {
   "codemirror_mode": {
    "name": "ipython",
    "version": 3
   },
   "file_extension": ".py",
   "mimetype": "text/x-python",
   "name": "python",
   "nbconvert_exporter": "python",
   "pygments_lexer": "ipython3",
   "version": "3.7.3"
  }
 },
 "nbformat": 4,
 "nbformat_minor": 2
}
