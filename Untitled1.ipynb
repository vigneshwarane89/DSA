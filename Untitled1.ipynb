{
 "cells": [
  {
   "cell_type": "code",
   "execution_count": 2,
   "metadata": {},
   "outputs": [
    {
     "name": "stdout",
     "output_type": "stream",
     "text": [
      "1\n",
      "4 3\n",
      "0 1 2 3 3 2\n"
     ]
    }
   ],
   "source": [
    "# Your task is to complete this function\n",
    "# Function should return True/False or 1/0\n",
    "# Graph(graph) is a defaultict of type List\n",
    "# n is no of Vertices\n",
    "\n",
    "\n",
    "#{ \n",
    "#  Driver Code Starts\n",
    "\n",
    "from collections import defaultdict\n",
    "\n",
    "def creategraph(n, arr, graph):\n",
    "    i = 0\n",
    "    while i < 2 * e:\n",
    "        graph[arr[i]].append(arr[i + 1])\n",
    "        # graph[arr[i + 1]].append(arr[i])\n",
    "        i += 2\n",
    "\n",
    "if __name__ == '__main__':\n",
    "    t = int(input())\n",
    "    for i in range(t):\n",
    "        n,e = list(map(int, input().strip().split()))\n",
    "        arr = list(map(int, input().strip().split()))\n",
    "        graph = defaultdict(list)\n",
    "        creategraph(e, arr, graph)\n",
    "        #if isCyclic(n, graph):\n",
    "            #print(1)\n",
    "        #else:\n",
    "         #\n",
    "            #print(0)\n",
    "# } Driver Code Ends"
   ]
  },
  {
   "cell_type": "code",
   "execution_count": 4,
   "metadata": {},
   "outputs": [],
   "source": [
    "def cycle(node,g,vis,rec):\n",
    "    \n",
    "    for neigh in g[node]:\n",
    "        \n",
    "        if not vis[node]:\n",
    "            vis[neigh] = True\n",
    "            rec[node] = True\n",
    "            if cycle(neigh,g,vis,rec) ==True:\n",
    "                return True\n",
    "        else:\n",
    "            rec[node] = True\n",
    "            return 1\n",
    "    return False\n",
    "            \n",
    "            \n",
    "def isCyclic(n, graph):\n",
    "    # Code here\n",
    "    visited=[False]*n\n",
    "    recstack=[False]*n\n",
    "    for node in graph:\n",
    "        if cycle(node,graph,visited,recstack) == True:\n",
    "            return 1\n",
    "        else:\n",
    "            return 0\n",
    "    print(visited,recstack)\n",
    "    return 0\n",
    "\n"
   ]
  },
  {
   "cell_type": "code",
   "execution_count": 7,
   "metadata": {},
   "outputs": [
    {
     "data": {
      "text/plain": [
       "defaultdict(list, {0: [1], 2: [3], 3: [2], 1: []})"
      ]
     },
     "execution_count": 7,
     "metadata": {},
     "output_type": "execute_result"
    }
   ],
   "source": [
    "graph"
   ]
  },
  {
   "cell_type": "code",
   "execution_count": 4,
   "metadata": {},
   "outputs": [],
   "source": [
    "def cycle(node,g,vis,rec):\n",
    "    \n",
    "    for neigh in g[node]:\n",
    "        print(\"neigh\",neigh)\n",
    "        \n",
    "        if not vis[node]:\n",
    "            vis[neigh] = True\n",
    "            rec[node] = True\n",
    "            if cycle(neigh,g,vis,rec) ==True:\n",
    "                return True\n",
    "            else:\n",
    "                rec[node] = True\n",
    "                return True\n",
    "    return False\n",
    "\n",
    "\n"
   ]
  },
  {
   "cell_type": "code",
   "execution_count": 6,
   "metadata": {},
   "outputs": [
    {
     "name": "stdout",
     "output_type": "stream",
     "text": [
      "node 0\n",
      "neigh 1\n",
      "node 2\n",
      "neigh 3\n",
      "neigh 2\n",
      "node 3\n",
      "neigh 2\n",
      "node 1\n",
      "[False, True, False, True] [True, False, True, False]\n"
     ]
    }
   ],
   "source": [
    "visited=[False]*n\n",
    "recstack=[False]*n\n",
    "for node in graph:\n",
    "    print(\"node\" ,node)\n",
    "    if cycle(node,graph,visited,recstack) == True:\n",
    "        \n",
    "        res = 1\n",
    "    else:\n",
    "        res=0\n",
    "print(visited,recstack)"
   ]
  },
  {
   "cell_type": "code",
   "execution_count": 8,
   "metadata": {},
   "outputs": [
    {
     "name": "stdout",
     "output_type": "stream",
     "text": [
      "1\n",
      "6\n",
      "4\n",
      "[1, 4, 2]\n",
      "5\n",
      "[1, 5]\n",
      "1\n"
     ]
    }
   ],
   "source": [
    "#{ \n",
    "#Driver Code Starts\n",
    "#Initial Template for Python 3\n",
    "\n",
    "\n",
    "import math\n",
    "\n",
    "\n",
    " # } Driver Code Ends\n",
    "\n",
    "#User function Template for python3\n",
    "import math\n",
    "##Complete this function\n",
    "def prime(n):\n",
    "    res=[1,n]\n",
    "    print(n)\n",
    "    while n % 2 == 0: \n",
    "        if 2 not in res:\n",
    "            res.append(2) \n",
    "        n = n / 2\n",
    "\n",
    "    for i in range(3,int(math.sqrt(n))+1,2): \n",
    " \n",
    "        while n % i== 0:\n",
    "            if i not in res:\n",
    "                res.append(i) \n",
    "            n = n / i \n",
    "\n",
    "    if n > 2: \n",
    "        if n not in res:\n",
    "            res.append(n)\n",
    "    print(res)\n",
    "    return(len(res))\n",
    "    \n",
    "def exactly3Divisors(N):\n",
    "    res=0\n",
    "    if N<4:\n",
    "        return 0\n",
    "    else:\n",
    "        for i in range(4,N):\n",
    "            if(prime(i) ==3):\n",
    "                res+=1\n",
    "    return res\n",
    "            \n",
    "    ##Your code here\n",
    "\n",
    "\n",
    "#{ \n",
    "#Driver Code Starts.\n",
    "def main():\n",
    "    \n",
    "    T=int(input())\n",
    "    \n",
    "    while(T>0):\n",
    "        \n",
    "        N=int(input())\n",
    "        \n",
    "        print(exactly3Divisors(N))\n",
    "        \n",
    "        T-=1\n",
    "    \n",
    "\n",
    "if __name__==\"__main__\":\n",
    "    main()\n",
    "#} Driver Code Ends"
   ]
  },
  {
   "cell_type": "code",
   "execution_count": 15,
   "metadata": {},
   "outputs": [
    {
     "name": "stdout",
     "output_type": "stream",
     "text": [
      "2\n",
      "3\n",
      "False\n",
      "True\n"
     ]
    }
   ],
   "source": [
    "N=15\n",
    "import math\n",
    "for i in range(2,math.floor(math.sqrt(N))+1):\n",
    "    print(i)\n",
    "    if N%i == 0:\n",
    "        print(False)\n",
    "print(True)"
   ]
  },
  {
   "cell_type": "code",
   "execution_count": 14,
   "metadata": {},
   "outputs": [
    {
     "data": {
      "text/plain": [
       "3"
      ]
     },
     "execution_count": 14,
     "metadata": {},
     "output_type": "execute_result"
    }
   ],
   "source": [
    "math.floor(math.sqrt(N))"
   ]
  },
  {
   "cell_type": "code",
   "execution_count": 17,
   "metadata": {},
   "outputs": [
    {
     "data": {
      "text/plain": [
       "1"
      ]
     },
     "execution_count": 17,
     "metadata": {},
     "output_type": "execute_result"
    }
   ],
   "source": [
    "15*3 %11"
   ]
  },
  {
   "cell_type": "code",
   "execution_count": 67,
   "metadata": {},
   "outputs": [],
   "source": [
    "l=[1,2,3,4,5]"
   ]
  },
  {
   "cell_type": "code",
   "execution_count": 69,
   "metadata": {},
   "outputs": [
    {
     "data": {
      "text/plain": [
       "[3, 2, 1]"
      ]
     },
     "execution_count": 69,
     "metadata": {},
     "output_type": "execute_result"
    }
   ],
   "source": [
    "l[0:3:1][::-1]"
   ]
  },
  {
   "cell_type": "code",
   "execution_count": 43,
   "metadata": {},
   "outputs": [],
   "source": [
    "l[0:3]=l[2::-1]"
   ]
  },
  {
   "cell_type": "code",
   "execution_count": 66,
   "metadata": {},
   "outputs": [
    {
     "data": {
      "text/plain": [
       "[3, 2, 1, 4, 5]"
      ]
     },
     "execution_count": 66,
     "metadata": {},
     "output_type": "execute_result"
    }
   ],
   "source": [
    "l"
   ]
  },
  {
   "cell_type": "code",
   "execution_count": 72,
   "metadata": {},
   "outputs": [
    {
     "name": "stdout",
     "output_type": "stream",
     "text": [
      "[3, 2, 1, 5, 4]\n"
     ]
    }
   ],
   "source": [
    "A=[1,2,3,4,5]\n",
    "N=5\n",
    "K=3\n",
    "res=[]\n",
    "for i in range(0,N,K):\n",
    "    res +=A[i:i+K][::-1]\n",
    "    \n",
    "print(res)"
   ]
  },
  {
   "cell_type": "code",
   "execution_count": 6,
   "metadata": {},
   "outputs": [
    {
     "name": "stdout",
     "output_type": "stream",
     "text": [
      "inf\n"
     ]
    }
   ],
   "source": [
    "import math\n",
    "print(math.inf)"
   ]
  },
  {
   "cell_type": "code",
   "execution_count": 12,
   "metadata": {},
   "outputs": [],
   "source": [
    "L=[2,4,6,8,10,12,14,16,18,20]\n",
    "D=3\n",
    "\n"
   ]
  },
  {
   "cell_type": "code",
   "execution_count": 13,
   "metadata": {},
   "outputs": [
    {
     "name": "stdout",
     "output_type": "stream",
     "text": [
      "[8, 10, 12, 14, 16, 18, 20, 2, 4, 6]\n"
     ]
    }
   ],
   "source": [
    "print(L[D:]+L[:D])"
   ]
  },
  {
   "cell_type": "code",
   "execution_count": 26,
   "metadata": {},
   "outputs": [
    {
     "name": "stdout",
     "output_type": "stream",
     "text": [
      "1\n",
      "5 2\n",
      "1 2 3 4 5\n",
      "1 2 3 4 5 \n"
     ]
    }
   ],
   "source": [
    "#User function Template for python3\n",
    "\n",
    "def rotateArr(A,D,N):\n",
    "    #Your code here\n",
    "    res=A[D:]+A[:D]\n",
    "    \n",
    "    \n",
    "\n",
    "\n",
    "\n",
    "#{ \n",
    "#  Driver Code Starts\n",
    "#Initial Template for Python 3\n",
    "\n",
    "import math\n",
    "\n",
    "T=int(input())\n",
    "\n",
    "while(T>0):\n",
    "    nd=[int(x) for x in input().strip().split()]\n",
    "    N=nd[0]\n",
    "    D=nd[1]\n",
    "    A=[int(x) for x in input().strip().split()]\n",
    "\n",
    "    rotateArr(A,D,N)\n",
    "\n",
    "    for i in A:\n",
    "        print(i,end=\" \")\n",
    "\n",
    "    print()\n",
    "\n",
    "    T-=1\n"
   ]
  },
  {
   "cell_type": "code",
   "execution_count": 28,
   "metadata": {},
   "outputs": [
    {
     "name": "stdout",
     "output_type": "stream",
     "text": [
      "[3, 4, 5, 1, 2]\n"
     ]
    }
   ],
   "source": [
    "res=A[D:]+A[:D]\n",
    "print(res)\n",
    "A=res"
   ]
  },
  {
   "cell_type": "code",
   "execution_count": 29,
   "metadata": {},
   "outputs": [
    {
     "data": {
      "text/plain": [
       "[3, 4, 5, 1, 2]"
      ]
     },
     "execution_count": 29,
     "metadata": {},
     "output_type": "execute_result"
    }
   ],
   "source": [
    "A"
   ]
  },
  {
   "cell_type": "code",
   "execution_count": 32,
   "metadata": {},
   "outputs": [
    {
     "name": "stdout",
     "output_type": "stream",
     "text": [
      "3\n",
      "2\n",
      "1\n",
      "0\n"
     ]
    }
   ],
   "source": [
    "for i in range(3,-1,-1):\n",
    "    print(i)"
   ]
  },
  {
   "cell_type": "code",
   "execution_count": 45,
   "metadata": {},
   "outputs": [
    {
     "name": "stdout",
     "output_type": "stream",
     "text": [
      "0\n",
      "1\n",
      "2\n",
      "3\n",
      "6\n",
      "1\n"
     ]
    }
   ],
   "source": [
    "arr=[1,5,3,4,3,5,6]\n",
    "d={}\n",
    "l=[]\n",
    "for i in range(len(arr)):\n",
    "    if arr[i] not in d:\n",
    "        print(i)\n",
    "        d[arr[i]]=i\n",
    "    else:\n",
    "        l.append(d[arr[i]])\n",
    "    \n",
    "if(l):\n",
    "    print(min(l))"
   ]
  },
  {
   "cell_type": "code",
   "execution_count": 46,
   "metadata": {},
   "outputs": [
    {
     "data": {
      "text/plain": [
       "[2, 1]"
      ]
     },
     "execution_count": 46,
     "metadata": {},
     "output_type": "execute_result"
    }
   ],
   "source": [
    "l"
   ]
  },
  {
   "cell_type": "code",
   "execution_count": 37,
   "metadata": {},
   "outputs": [
    {
     "data": {
      "text/plain": [
       "{1: 1, 5: 5, 3: 3, 4: 4, 6: 6}"
      ]
     },
     "execution_count": 37,
     "metadata": {},
     "output_type": "execute_result"
    }
   ],
   "source": [
    "d"
   ]
  },
  {
   "cell_type": "code",
   "execution_count": 66,
   "metadata": {},
   "outputs": [
    {
     "name": "stdout",
     "output_type": "stream",
     "text": [
      "0 1\n",
      "1 3\n",
      "2 6\n",
      "3 13\n",
      "else 12\n"
     ]
    }
   ],
   "source": [
    "n=5\n",
    "s=12\n",
    "a=[1,2,3,7,5]\n",
    "summ=0\n",
    "start=0\n",
    "end=0\n",
    "for i in range(n):\n",
    "    if summ==s:\n",
    "        print(start+1,end+1)\n",
    "    elif summ<s:\n",
    "        summ+=a[i]\n",
    "        end+=1\n",
    "        print(i,summ)\n",
    "    else:\n",
    "        summ-=a[start]\n",
    "        start+=1\n",
    "        print(\"else\",summ)\n",
    "    #print(start)\n",
    "    \n",
    "    "
   ]
  },
  {
   "cell_type": "code",
   "execution_count": 59,
   "metadata": {},
   "outputs": [
    {
     "data": {
      "text/plain": [
       "1"
      ]
     },
     "execution_count": 59,
     "metadata": {},
     "output_type": "execute_result"
    }
   ],
   "source": [
    "start"
   ]
  },
  {
   "cell_type": "code",
   "execution_count": 81,
   "metadata": {},
   "outputs": [
    {
     "name": "stdout",
     "output_type": "stream",
     "text": [
      "0 0\n",
      "1 1\n",
      "2 3\n",
      "3 6\n",
      "4 13\n",
      "5 18\n"
     ]
    },
    {
     "ename": "IndexError",
     "evalue": "list index out of range",
     "output_type": "error",
     "traceback": [
      "\u001b[1;31m---------------------------------------------------------------------------\u001b[0m",
      "\u001b[1;31mIndexError\u001b[0m                                Traceback (most recent call last)",
      "\u001b[1;32m<ipython-input-81-e359e3d61404>\u001b[0m in \u001b[0;36m<module>\u001b[1;34m\u001b[0m\n\u001b[0;32m     20\u001b[0m     \u001b[1;32melse\u001b[0m\u001b[1;33m:\u001b[0m\u001b[1;33m\u001b[0m\u001b[1;33m\u001b[0m\u001b[0m\n\u001b[0;32m     21\u001b[0m         \u001b[0msumm\u001b[0m\u001b[1;33m-=\u001b[0m\u001b[0mstart\u001b[0m\u001b[1;33m\u001b[0m\u001b[1;33m\u001b[0m\u001b[0m\n\u001b[1;32m---> 22\u001b[1;33m         \u001b[0msumm\u001b[0m\u001b[1;33m+=\u001b[0m\u001b[0ma\u001b[0m\u001b[1;33m[\u001b[0m\u001b[0mi\u001b[0m\u001b[1;33m]\u001b[0m\u001b[1;33m\u001b[0m\u001b[1;33m\u001b[0m\u001b[0m\n\u001b[0m\u001b[0;32m     23\u001b[0m         \u001b[0mend\u001b[0m\u001b[1;33m+=\u001b[0m\u001b[1;36m1\u001b[0m\u001b[1;33m\u001b[0m\u001b[1;33m\u001b[0m\u001b[0m\n\u001b[0;32m     24\u001b[0m \u001b[1;33m\u001b[0m\u001b[0m\n",
      "\u001b[1;31mIndexError\u001b[0m: list index out of range"
     ]
    }
   ],
   "source": [
    "n=5\n",
    "s=12\n",
    "a=[1,2,3,7,5]\n",
    "summ=0\n",
    "start=0\n",
    "end=0\n",
    "i=0\n",
    "cond =True\n",
    "while(cond):\n",
    "    print(i,summ)\n",
    "    \n",
    "    if s==summ:\n",
    "        print(start,end)\n",
    "        cond = False\n",
    "\n",
    "    elif summ<s:\n",
    "        summ+=a[i]\n",
    "        end+=1\n",
    "        i+=1\n",
    "    else:\n",
    "        summ-=start\n",
    "        summ+=a[i]\n",
    "        end+=1\n",
    "        \n",
    "        start+=1\n",
    "        i+=1\n",
    "    \n",
    "        \n",
    "    \n",
    "    \n",
    "    "
   ]
  },
  {
   "cell_type": "code",
   "execution_count": 84,
   "metadata": {},
   "outputs": [
    {
     "data": {
      "text/plain": [
       "[1, 2, 3, 7, 5]"
      ]
     },
     "execution_count": 84,
     "metadata": {},
     "output_type": "execute_result"
    }
   ],
   "source": [
    "a"
   ]
  },
  {
   "cell_type": "code",
   "execution_count": 85,
   "metadata": {},
   "outputs": [
    {
     "data": {
      "text/plain": [
       "0"
      ]
     },
     "execution_count": 85,
     "metadata": {},
     "output_type": "execute_result"
    }
   ],
   "source": [
    "a.index(min(a))"
   ]
  },
  {
   "cell_type": "code",
   "execution_count": 88,
   "metadata": {},
   "outputs": [
    {
     "ename": "TypeError",
     "evalue": "'NoneType' object is not subscriptable",
     "output_type": "error",
     "traceback": [
      "\u001b[1;31m---------------------------------------------------------------------------\u001b[0m",
      "\u001b[1;31mTypeError\u001b[0m                                 Traceback (most recent call last)",
      "\u001b[1;32m<ipython-input-88-e00825c653bf>\u001b[0m in \u001b[0;36m<module>\u001b[1;34m\u001b[0m\n\u001b[1;32m----> 1\u001b[1;33m \u001b[1;33m(\u001b[0m\u001b[0ma\u001b[0m\u001b[1;33m.\u001b[0m\u001b[0msort\u001b[0m\u001b[1;33m(\u001b[0m\u001b[1;33m)\u001b[0m\u001b[1;33m)\u001b[0m\u001b[1;33m[\u001b[0m\u001b[1;36m0\u001b[0m\u001b[1;33m]\u001b[0m\u001b[1;33m\u001b[0m\u001b[1;33m\u001b[0m\u001b[0m\n\u001b[0m",
      "\u001b[1;31mTypeError\u001b[0m: 'NoneType' object is not subscriptable"
     ]
    }
   ],
   "source": []
  },
  {
   "cell_type": "code",
   "execution_count": 102,
   "metadata": {},
   "outputs": [
    {
     "name": "stdout",
     "output_type": "stream",
     "text": [
      "[1]\n",
      "[1, 2]\n",
      "[1, 2, 3]\n",
      "[1, 2, 3, 5]\n",
      "[1, 2, 3, 5, 7]\n",
      "7\n"
     ]
    }
   ],
   "source": [
    "l=[]\n",
    "arr=a\n",
    "x=8\n",
    "for i in arr:\n",
    "    if i<x:\n",
    "        l.append(i)\n",
    "        \n",
    "if(l):\n",
    "    l.sort(reverse = True)\n",
    "    print(l[0])\n",
    "    \n"
   ]
  },
  {
   "cell_type": "code",
   "execution_count": 100,
   "metadata": {},
   "outputs": [],
   "source": [
    "l.sort(reverse = True)"
   ]
  },
  {
   "cell_type": "code",
   "execution_count": 101,
   "metadata": {},
   "outputs": [
    {
     "data": {
      "text/plain": [
       "[7, 5, 3, 2, 1]"
      ]
     },
     "execution_count": 101,
     "metadata": {},
     "output_type": "execute_result"
    }
   ],
   "source": [
    "l"
   ]
  },
  {
   "cell_type": "code",
   "execution_count": 108,
   "metadata": {},
   "outputs": [],
   "source": [
    "a=[1,2,3,-2,5]\n",
    "n=5\n",
    "sums=[0]*n\n",
    "sums[0]=a[0]"
   ]
  },
  {
   "cell_type": "code",
   "execution_count": 109,
   "metadata": {},
   "outputs": [],
   "source": [
    "for i in range(1,n):\n",
    "    sums[i] = max(sums[i-1],sums[i-1]+a[i])"
   ]
  },
  {
   "cell_type": "code",
   "execution_count": 110,
   "metadata": {},
   "outputs": [
    {
     "data": {
      "text/plain": [
       "[1, 3, 6, 6, 11]"
      ]
     },
     "execution_count": 110,
     "metadata": {},
     "output_type": "execute_result"
    }
   ],
   "source": [
    "sums"
   ]
  },
  {
   "cell_type": "code",
   "execution_count": null,
   "metadata": {},
   "outputs": [
    {
     "name": "stdout",
     "output_type": "stream",
     "text": [
      "4\n",
      "1\n",
      "Case #1: 1\n"
     ]
    }
   ],
   "source": [
    "T=int(input())\n",
    "case = 0\n",
    "while(case<T):\n",
    "    n=int(input())\n",
    "    if(n>2):\n",
    "        arr=list(map(int,input().split()))\n",
    "        diff=[0]*(n)\n",
    "        diff[1] = arr[0]-arr[1]\n",
    "        l=1\n",
    "        m=0\n",
    "        for i in range(2,n):\n",
    "            \n",
    "            \n",
    "            diff[i] = arr[i-1] - arr[i]\n",
    "            \n",
    "            if diff[i-1] == diff[i]:\n",
    "                l+=1\n",
    "            else:\n",
    "                l=1\n",
    "            if m< l:\n",
    "                m = l\n",
    "            \n",
    "    elif n ==1:\n",
    "        m=0\n",
    "    else:\n",
    "        m=-1\n",
    "        \n",
    "    \n",
    "        \n",
    "    \n",
    "    print(\"Case #{}: {}\".format(case+1,m+1))\n",
    "    case+=1"
   ]
  },
  {
   "cell_type": "code",
   "execution_count": 124,
   "metadata": {},
   "outputs": [
    {
     "data": {
      "text/plain": [
       "[0, 3, -2, -2, -2, -1, 0]"
      ]
     },
     "execution_count": 124,
     "metadata": {},
     "output_type": "execute_result"
    }
   ],
   "source": [
    "diff"
   ]
  },
  {
   "cell_type": "code",
   "execution_count": 7,
   "metadata": {},
   "outputs": [],
   "source": [
    "def a(arr,size):\n",
    "    if len(arr) == 0:\n",
    "        return 0\n",
    "    if len(arr) == 1:\n",
    "        return arr[-1]+1 if arr[-1]> 0 else 1\n",
    "    arr.sort()\n",
    "    for i in range(1,size):\n",
    "        if arr[i]>=0 and (arr[i]-arr[i-1])!=1:\n",
    "            if arr[i] == arr[i-1]:\n",
    "                continue\n",
    "            return arr[i-1]+1\n",
    "    return arr[-1]+1"
   ]
  },
  {
   "cell_type": "code",
   "execution_count": 10,
   "metadata": {},
   "outputs": [
    {
     "data": {
      "text/plain": [
       "-6"
      ]
     },
     "execution_count": 10,
     "metadata": {},
     "output_type": "execute_result"
    }
   ],
   "source": [
    "a(arr,15)"
   ]
  },
  {
   "cell_type": "code",
   "execution_count": 9,
   "metadata": {},
   "outputs": [
    {
     "name": "stdout",
     "output_type": "stream",
     "text": [
      "37 6 -7 41 -23 15 9 -14 -18 1 -13 -22 25 -43 24\n"
     ]
    }
   ],
   "source": [
    "arr = list(map(int, input().strip().split()))"
   ]
  },
  {
   "cell_type": "code",
   "execution_count": 11,
   "metadata": {},
   "outputs": [
    {
     "data": {
      "text/plain": [
       "[-43, -23, -22, -18, -14, -13, -7, 1, 6, 9, 15, 24, 25, 37, 41]"
      ]
     },
     "execution_count": 11,
     "metadata": {},
     "output_type": "execute_result"
    }
   ],
   "source": [
    "arr"
   ]
  },
  {
   "cell_type": "code",
   "execution_count": 14,
   "metadata": {},
   "outputs": [],
   "source": [
    "p2=1\n",
    "p1=1\n",
    "p1=p1+1 if p1<3-1 else p1,p2+1"
   ]
  },
  {
   "cell_type": "code",
   "execution_count": 16,
   "metadata": {},
   "outputs": [
    {
     "data": {
      "text/plain": [
       "(2, 2)"
      ]
     },
     "execution_count": 16,
     "metadata": {},
     "output_type": "execute_result"
    }
   ],
   "source": []
  },
  {
   "cell_type": "code",
   "execution_count": null,
   "metadata": {},
   "outputs": [],
   "source": [
    "#User function Template for python3\n",
    "'''\n",
    "\tYour task is to merge two sorted arrays in one \n",
    "\twithout using extra space.\n",
    "\t\n",
    "\tFunction Arguments: array a with size n and array b with size m.\n",
    "\tReturn Type: none,just modify the two arrays accordingly..\n",
    "\tthe main function prints the arrays as follows:\n",
    "\t\n",
    "\t{\n",
    "\t    print(*a,end=\" \")\n",
    "        print(*b)\n",
    "\t}\n",
    "'''\n",
    "def merge(a,n,b,m):\n",
    "    #code here\n",
    "    p1=0\n",
    "    p2=0\n",
    "    arr1=[]\n",
    "    arr2=[]\n",
    "    while(p1<n or p2<n):\n",
    "        if a[p1]<a[p2]:\n",
    "            if len(arr1)< n:\n",
    "                arr1.append(a[p1])\n",
    "                if p1<n-1:\n",
    "                    p1=p1+1 \n",
    "                else:\n",
    "                    p2+=1\n",
    "            else:\n",
    "                arr2.append(a[p1])\n",
    "                if p1<n-1:\n",
    "                    p1=p1+1 \n",
    "                else:\n",
    "                    p2+=1\n",
    "        else:\n",
    "            if len(arr)<n:\n",
    "                arr1.append(b[p2])\n",
    "                if p2<m-1:\n",
    "                    p2=p2+1 \n",
    "                else:\n",
    "                    p1+=1\n",
    "            else:\n",
    "                arr2.append(b[p2])\n",
    "                if p2<m-1:\n",
    "                    p2=p2+1 \n",
    "                else:\n",
    "                    p1+=1\n",
    "            \n",
    "        \n",
    "                \n",
    "\n",
    "\n",
    "\n",
    "\n",
    "#{ \n",
    "#  Driver Code Starts\n",
    "#Initial Template for Python 3\n",
    "\n",
    "import atexit\n",
    "import io\n",
    "import sys\n",
    "\n",
    "_INPUT_LINES = sys.stdin.read().splitlines()\n",
    "input = iter(_INPUT_LINES).__next__\n",
    "_OUTPUT_BUFFER = io.StringIO()\n",
    "sys.stdout = _OUTPUT_BUFFER\n",
    "\n",
    "@atexit.register\n",
    "\n",
    "def write():\n",
    "    sys.__stdout__.write(_OUTPUT_BUFFER.getvalue())\n",
    "\n",
    "if __name__ == '__main__':\n",
    "    t = int(input())\n",
    "    for tt in range(t):\n",
    "        n,m = map(int, input().strip().split())\n",
    "        a = list(map(int, input().strip().split()))\n",
    "        b = list(map(int, input().strip().split()))\n",
    "        merge(a,n,b,m)\n",
    "        if(len(a)!=n and len(b)!=m):\n",
    "            print(\"Do in O(1) space\")\n",
    "        print(*a,end=\" \")\n",
    "        print(*b)\n",
    "# } Driver Code Ends"
   ]
  },
  {
   "cell_type": "code",
   "execution_count": 17,
   "metadata": {},
   "outputs": [],
   "source": [
    "a=[1,3,5,7]\n",
    "b=[0,2,6,8,9]\n",
    "n=4\n",
    "m=5\n",
    "res = a+b\n",
    "res.sort()\n",
    "for i in range(n):\n",
    "    a[i] = res[0]\n",
    "    res.pop(0)\n",
    "for i in range(m):\n",
    "    b[i] = res[0]\n",
    "    res.pop(0)"
   ]
  },
  {
   "cell_type": "code",
   "execution_count": 18,
   "metadata": {},
   "outputs": [
    {
     "data": {
      "text/plain": [
       "[0, 1, 2, 3]"
      ]
     },
     "execution_count": 18,
     "metadata": {},
     "output_type": "execute_result"
    }
   ],
   "source": [
    "a"
   ]
  },
  {
   "cell_type": "code",
   "execution_count": 19,
   "metadata": {},
   "outputs": [
    {
     "data": {
      "text/plain": [
       "[5, 6, 7, 8, 9]"
      ]
     },
     "execution_count": 19,
     "metadata": {},
     "output_type": "execute_result"
    }
   ],
   "source": [
    "b"
   ]
  },
  {
   "cell_type": "code",
   "execution_count": null,
   "metadata": {},
   "outputs": [],
   "source": []
  }
 ],
 "metadata": {
  "kernelspec": {
   "display_name": "Python 3",
   "language": "python",
   "name": "python3"
  },
  "language_info": {
   "codemirror_mode": {
    "name": "ipython",
    "version": 3
   },
   "file_extension": ".py",
   "mimetype": "text/x-python",
   "name": "python",
   "nbconvert_exporter": "python",
   "pygments_lexer": "ipython3",
   "version": "3.7.3"
  }
 },
 "nbformat": 4,
 "nbformat_minor": 2
}
